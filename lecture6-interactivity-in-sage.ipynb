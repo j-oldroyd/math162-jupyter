{
 "cells": [
  {
   "cell_type": "markdown",
   "metadata": {
    "slideshow": {
     "slide_type": "slide"
    }
   },
   "source": [
    "# Interactivity in Sage"
   ]
  },
  {
   "cell_type": "markdown",
   "metadata": {
    "slideshow": {
     "slide_type": "subslide"
    }
   },
   "source": [
    "Suppose we want to see how the shape of $|x|^{n} + |y|^{n} = 1$ changes for different values of $n$. One approach is to create a series of plots for different values of $n$. Since we'll be reusing code for this, it makes sense to create a function to display each plot."
   ]
  },
  {
   "cell_type": "code",
   "execution_count": null,
   "metadata": {
    "slideshow": {
     "slide_type": "fragment"
    }
   },
   "outputs": [],
   "source": [
    "%display latex # the usual\n",
    "var('y')\n",
    "\n",
    "def plot_power_eqn(n):\n",
    "    \"\"\"\n",
    "    Uses implicit_plot to plot |x|^n + |y|^n == 1.\n",
    "    \"\"\"\n",
    "    expr = abs(x)^n + abs(y)^n - 1 # rewrite equation for use in implicit_plot\n",
    "    show(implicit_plot(expr, (x, -2, 2), (y, -2, 2)))\n",
    "    \n",
    "plot_power_eqn(30)"
   ]
  },
  {
   "cell_type": "markdown",
   "metadata": {},
   "source": [
    "This works well enough, but we might also want to see how the plot changes as $n$ changes."
   ]
  },
  {
   "cell_type": "markdown",
   "metadata": {},
   "source": [
    "**Example**: Complete the `for` loop below to plot $|x|^n + |y|^n = 1$ for $n = 1, 2, ..., 10$."
   ]
  },
  {
   "cell_type": "code",
   "execution_count": null,
   "metadata": {},
   "outputs": [],
   "source": [
    "P = implicit_plot(abs(x) + abs(y) - 1, (x, -2, 2), (y, -2, 2))\n",
    "\n",
    "# complete the two lines below\n",
    "for n in range():\n",
    "    P += implicit_plot()\n",
    "\n",
    "P.show()"
   ]
  },
  {
   "cell_type": "markdown",
   "metadata": {
    "slideshow": {
     "slide_type": "subslide"
    }
   },
   "source": [
    "To get a more dynamic picture of how these plots are changing as $n$ changes, we can also use the `@interact` widget to set values interactively."
   ]
  },
  {
   "cell_type": "code",
   "execution_count": null,
   "metadata": {
    "slideshow": {
     "slide_type": "fragment"
    }
   },
   "outputs": [],
   "source": [
    "@interact\n",
    "def _(n = slider(1, 3, step_size = .5, label = \"power\")):\n",
    "    expr = abs(x)^n + abs(y)^n - 1 # rewrite equation for use in implicit_plot\n",
    "    show(implicit_plot(expr, (x, -2, 2), (y, -2, 2)))"
   ]
  },
  {
   "cell_type": "markdown",
   "metadata": {
    "slideshow": {
     "slide_type": "fragment"
    }
   },
   "source": [
    "The `slider` command gives range of values for $n$:\n",
    "```sage\n",
    "n = slider(min, max, step_size = 1, label = \"some label\")\n",
    "```\n",
    "This allows $n$ to vary from the given value `min` to the value `max` in increments of $1$ (assuming both are integers). `step_size` and `label` are optional. If `step_size` is specified (as in the previous code cell), then $n$ will increment by the given value each at each step. It should also be noted that we're using `_` as a kind of \"dummy name\" for this function. We won't be using this function again later, so we're not too particular about the name here."
   ]
  },
  {
   "cell_type": "markdown",
   "metadata": {
    "slideshow": {
     "slide_type": "subslide"
    }
   },
   "source": [
    "**Example 1**: Modify the following interactive plot so that $h$ increments with a step size if $0.1$ and the corresponding label for the slider is \"step:\"."
   ]
  },
  {
   "cell_type": "code",
   "execution_count": null,
   "metadata": {
    "slideshow": {
     "slide_type": "fragment"
    }
   },
   "outputs": [],
   "source": [
    "@interact\n",
    "def _(h = slider(0, 3)):\n",
    "    f(x) = sin(x)\n",
    "    p = plot(f(x), (x, -pi, pi))\n",
    "    p = p + line([(0, 0), (h, f(h))], color = 'red')\n",
    "    p.show()"
   ]
  },
  {
   "cell_type": "markdown",
   "metadata": {
    "slideshow": {
     "slide_type": "subslide"
    }
   },
   "source": [
    "**Example 2**: Complete the code below using `slider` to create an interactive plot of $f(x) = ax^{2} + bx + c$ for different values of $a,b$ and $c$. Your sliders should accomodate the following ranges for $a,b$ and $c$:\n",
    "$$-2\\leq a\\leq 2,\\quad 0\\leq b\\leq 5,\\quad -5\\leq c\\leq 5.$$"
   ]
  },
  {
   "cell_type": "code",
   "execution_count": null,
   "metadata": {},
   "outputs": [],
   "source": [
    "# code cell for Example 2\n",
    "\n",
    "@interact\n",
    "def _(a = , b = , c = ): # complete code on this line using sliders\n",
    "    # complete code in this region so this function will plot ax^2 + bx + c"
   ]
  },
  {
   "cell_type": "markdown",
   "metadata": {
    "slideshow": {
     "slide_type": "subslide"
    }
   },
   "source": [
    "We can also use `input_box` to enter a value:\n",
    "```sage\n",
    "var_name = input_box(default_val, width = val, label = \"str\")\n",
    "```"
   ]
  },
  {
   "cell_type": "code",
   "execution_count": null,
   "metadata": {
    "slideshow": {
     "slide_type": "fragment"
    }
   },
   "outputs": [],
   "source": [
    "@interact\n",
    "def _(f = input_box(sin(x), width = 20, label=\"$f(x) = $\")):\n",
    "    show(plot(f, (x, -pi, pi)))"
   ]
  },
  {
   "cell_type": "markdown",
   "metadata": {
    "slideshow": {
     "slide_type": "fragment"
    }
   },
   "source": [
    "**Example 3**: Complete the code cell below to create a function that uses `input_box` to plot the line $y = mx + b$ for specified values of $m$ and $b$. Try to use `label` and appropriate $\\LaTeX$ code to make nice labels for your input boxes."
   ]
  },
  {
   "cell_type": "code",
   "execution_count": null,
   "metadata": {
    "slideshow": {
     "slide_type": "-"
    }
   },
   "outputs": [],
   "source": [
    "# code cell for Example 3\n",
    "@interact\n",
    "def _(m = input_box(1, width = 20, label = \"$m = $\"), b = input_box()):\n",
    "    "
   ]
  },
  {
   "cell_type": "markdown",
   "metadata": {
    "slideshow": {
     "slide_type": "subslide"
    }
   },
   "source": [
    "**Example 4**: Complete the code cell below to create a function that uses `input_box` to ask the user to enter a function $f(x)$, integrates that function to get $F(x)$, and then uses `slider` to plot $F(x) + C$ for different values of $C$. Make use of the `label` option to create nice labels for your input box and slider."
   ]
  },
  {
   "cell_type": "code",
   "execution_count": null,
   "metadata": {},
   "outputs": [],
   "source": [
    "# code cell for Example 4\n",
    "@interact\n",
    "def _():"
   ]
  }
 ],
 "metadata": {
  "kernelspec": {
   "display_name": "SageMath 9.2",
   "language": "sage",
   "name": "sagemath"
  },
  "language_info": {
   "codemirror_mode": {
    "name": "ipython",
    "version": 3
   },
   "file_extension": ".py",
   "mimetype": "text/x-python",
   "name": "python",
   "nbconvert_exporter": "python",
   "pygments_lexer": "ipython3",
   "version": "3.7.7"
  },
  "varInspector": {
   "cols": {
    "lenName": 16,
    "lenType": 16,
    "lenVar": 40
   },
   "kernels_config": {
    "python": {
     "delete_cmd_postfix": "",
     "delete_cmd_prefix": "del ",
     "library": "var_list.py",
     "varRefreshCmd": "print(var_dic_list())"
    },
    "r": {
     "delete_cmd_postfix": ") ",
     "delete_cmd_prefix": "rm(",
     "library": "var_list.r",
     "varRefreshCmd": "cat(var_dic_list()) "
    }
   },
   "types_to_exclude": [
    "module",
    "function",
    "builtin_function_or_method",
    "instance",
    "_Feature"
   ],
   "window_display": false
  }
 },
 "nbformat": 4,
 "nbformat_minor": 2
}

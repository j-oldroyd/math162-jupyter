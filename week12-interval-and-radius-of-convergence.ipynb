{
 "cells": [
  {
   "cell_type": "markdown",
   "metadata": {
    "slideshow": {
     "slide_type": "slide"
    }
   },
   "source": [
    "# Finding Intervals and Radii of Convergence in Sage"
   ]
  },
  {
   "cell_type": "markdown",
   "metadata": {
    "slideshow": {
     "slide_type": "subslide"
    }
   },
   "source": [
    "**Example 1**: Using Sage, find the interval of convergence of the function\n",
    "$$J_{1}(x) = \\sum_{n = 0}^{\\infty} \\frac{(-1)^{n}x^{2n+1}}{n!(n+1)!2^{2n+1}}.$$\n",
    "(*Hint*: compute\n",
    "$$\\lim_{n\\to\\infty}\\left|\\frac{a_{n+1}}{a_{n}}\\right|$$\n",
    "and use the ratio test.)\n",
    "\n",
    "The interval of convergence is $(-\\infty, \\infty)$."
   ]
  },
  {
   "cell_type": "code",
   "execution_count": 2,
   "metadata": {
    "slideshow": {
     "slide_type": "fragment"
    }
   },
   "outputs": [
    {
     "data": {
      "text/html": [
       "<html><script type=\"math/tex; mode=display\">\\newcommand{\\Bold}[1]{\\mathbf{#1}}0</script></html>"
      ],
      "text/plain": [
       "0"
      ]
     },
     "execution_count": 2,
     "metadata": {},
     "output_type": "execute_result"
    }
   ],
   "source": [
    "%display latex\n",
    "var('n')\n",
    "\n",
    "a(n) = (-1)^n * x^(2*n+1) / (factorial(n) * factorial(n + 1) * 2^(2*n+1))\n",
    "limit(abs( a(n+1) / a(n) ), n = oo).full_simplify()"
   ]
  },
  {
   "cell_type": "markdown",
   "metadata": {
    "slideshow": {
     "slide_type": "fragment"
    }
   },
   "source": [
    "**Example 2**: Assuming that $k$ is a positive integer, find the radius of convergence of\n",
    "$$\\sum_{n = 0}^{\\infty} \\frac{(n!)^{k}}{(kn)!}x^{n}$$\n",
    "by computing\n",
    "$$\\lim_{n\\to\\infty} \\frac{\\frac{(n!)^{k}}{(kn)!}}{\\frac{((n+1)!)^{k}}{(k(n+1))!}}.$$"
   ]
  },
  {
   "cell_type": "code",
   "execution_count": 4,
   "metadata": {
    "slideshow": {
     "slide_type": "fragment"
    }
   },
   "outputs": [
    {
     "data": {
      "text/html": [
       "<html><script type=\"math/tex; mode=display\">\\newcommand{\\Bold}[1]{\\mathbf{#1}}k^{k}</script></html>"
      ],
      "text/plain": [
       "k^k"
      ]
     },
     "execution_count": 4,
     "metadata": {},
     "output_type": "execute_result"
    }
   ],
   "source": [
    "# code cell for Example 2\n",
    "var('k')\n",
    "assume(k > 0)\n",
    "assume(k, 'integer')\n",
    "\n",
    "a(n) = factorial(n)^k / factorial(k*n)\n",
    "limit(a(n) / a(n+1), n = oo).full_simplify()"
   ]
  },
  {
   "cell_type": "markdown",
   "metadata": {
    "slideshow": {
     "slide_type": "subslide"
    }
   },
   "source": [
    "**Example 3**: Using the code cell below, estimate the interval of convergence of the series\n",
    "$$\\sum_{k = 0}^{\\infty}(-1)^{k}\\frac{x^{k+1}}{k + 1}.$$"
   ]
  },
  {
   "cell_type": "code",
   "execution_count": 5,
   "metadata": {
    "slideshow": {
     "slide_type": "fragment"
    }
   },
   "outputs": [
    {
     "data": {
      "application/vnd.jupyter.widget-view+json": {
       "model_id": "d78a69b375ba4db1889efdcc07797a95",
       "version_major": 2,
       "version_minor": 0
      },
      "text/plain": [
       "SW50ZXJhY3RpdmUgZnVuY3Rpb24gPGZ1bmN0aW9uIF8gYXQgMHgxMDU3M2Q1MDA+IHdpdGggMSB3aWRnZXQKICBuOiBUcmFuc2Zvcm1JbnRTbGlkZXIodmFsdWU9MSwgZGVzY3JpcHRpb249dSfigKY=\n"
      ]
     },
     "metadata": {},
     "output_type": "display_data"
    }
   ],
   "source": [
    "@interact\n",
    "def _(n = slider(1, 30, step_size=2)):\n",
    "    pseries = sum((-1)^k * x^(k + 1) / (k + 1), k, 0, n)\n",
    "    plot(pseries, (x, -2, 2), ymin = -5, ymax = 5).show()"
   ]
  },
  {
   "cell_type": "markdown",
   "metadata": {
    "slideshow": {
     "slide_type": "fragment"
    }
   },
   "source": [
    "**Example 4**: Create an interactive plot as in Example 3 to estimate the interval of convergence for the series\n",
    "$$\\sum_{k=0}^{\\infty}\\frac{(-1)^{k}2^{2k + 1}}{2k + 1}x^{2k + 1}.$$"
   ]
  },
  {
   "cell_type": "code",
   "execution_count": 4,
   "metadata": {
    "slideshow": {
     "slide_type": "fragment"
    }
   },
   "outputs": [],
   "source": [
    "@interact\n",
    "def _(n = slider(1, 30, step_size=2)):\n",
    "    pseries = sum((-1)^k * x^(k + 1) / (k + 1), k, 0, n)\n",
    "    plot(pseries, (x, -2, 2), ymin = -5, ymax = 5).show()"
   ]
  },
  {
   "cell_type": "markdown",
   "metadata": {
    "slideshow": {
     "slide_type": "fragment"
    }
   },
   "source": [
    "**Example 5**: Verify your answer in Example 5 by using either the root test or the ratio test. If you use the root test, it might be helpful to use the `assume` command (see Example 2) and let Sage assume that $x > 1$."
   ]
  },
  {
   "cell_type": "code",
   "execution_count": 6,
   "metadata": {
    "slideshow": {
     "slide_type": "fragment"
    }
   },
   "outputs": [
    {
     "data": {
      "text/html": [
       "<html><script type=\"math/tex; mode=display\">\\newcommand{\\Bold}[1]{\\mathbf{#1}}\\left[\\left[x > \\left(-\\frac{1}{2}\\right), x < \\left(\\frac{1}{2}\\right)\\right]\\right]</script></html>"
      ],
      "text/plain": [
       "[[x > (-1/2), x < (1/2)]]"
      ]
     },
     "execution_count": 6,
     "metadata": {},
     "output_type": "execute_result"
    }
   ],
   "source": [
    "# code cell for Example 5\n",
    "solve(4*x^2 < 1, x)"
   ]
  }
 ],
 "metadata": {
  "celltoolbar": "Slideshow",
  "kernelspec": {
   "display_name": "SageMath 8.8",
   "language": "sage",
   "name": "sagemath"
  },
  "language_info": {
   "codemirror_mode": {
    "name": "ipython",
    "version": 2
   },
   "file_extension": ".py",
   "mimetype": "text/x-python",
   "name": "python",
   "nbconvert_exporter": "python",
   "pygments_lexer": "ipython2",
   "version": "2.7.15"
  },
  "varInspector": {
   "cols": {
    "lenName": 16,
    "lenType": 16,
    "lenVar": 40
   },
   "kernels_config": {
    "python": {
     "delete_cmd_postfix": "",
     "delete_cmd_prefix": "del ",
     "library": "var_list.py",
     "varRefreshCmd": "print(var_dic_list())"
    },
    "r": {
     "delete_cmd_postfix": ") ",
     "delete_cmd_prefix": "rm(",
     "library": "var_list.r",
     "varRefreshCmd": "cat(var_dic_list()) "
    }
   },
   "types_to_exclude": [
    "module",
    "function",
    "builtin_function_or_method",
    "instance",
    "_Feature"
   ],
   "window_display": false
  }
 },
 "nbformat": 4,
 "nbformat_minor": 2
}

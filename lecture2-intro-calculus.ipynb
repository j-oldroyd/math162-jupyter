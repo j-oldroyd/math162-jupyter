{
 "cells": [
  {
   "cell_type": "markdown",
   "metadata": {
    "slideshow": {
     "slide_type": "slide"
    }
   },
   "source": [
    "# Calculus in Sage"
   ]
  },
  {
   "cell_type": "markdown",
   "metadata": {
    "slideshow": {
     "slide_type": "subslide"
    }
   },
   "source": [
    "- Three basic functions for calculus:\n",
    "    1. `limit()`\n",
    "    2. `derivative()`\n",
    "    3. `integral()`"
   ]
  },
  {
   "cell_type": "markdown",
   "metadata": {
    "slideshow": {
     "slide_type": "subslide"
    }
   },
   "source": [
    "## Limits in Sage"
   ]
  },
  {
   "cell_type": "markdown",
   "metadata": {
    "slideshow": {
     "slide_type": "fragment"
    }
   },
   "source": [
    "- To compute limits:\n",
    "```python\n",
    "limit(expr, x=a, dir='+') # dir is optional\n",
    "limit(expr, x=a, dir='-') # dir is optional\n",
    "```\n",
    "For example, $\\lim_{x\\to3^{-}}\\frac{x^{2} - 9}{x - 3}$ can be found using code below:"
   ]
  },
  {
   "cell_type": "code",
   "execution_count": 2,
   "metadata": {
    "slideshow": {
     "slide_type": "fragment"
    }
   },
   "outputs": [
    {
     "data": {
      "text/html": [
       "<html><script type=\"math/tex; mode=display\">\\newcommand{\\Bold}[1]{\\mathbf{#1}}6</script></html>"
      ],
      "text/plain": [
       "6"
      ]
     },
     "execution_count": 2,
     "metadata": {},
     "output_type": "execute_result"
    }
   ],
   "source": [
    "%display latex # make output nicer\n",
    "limit((x^2 - 9) / (x - 3), x = 3, dir='-')  "
   ]
  },
  {
   "cell_type": "markdown",
   "metadata": {
    "slideshow": {
     "slide_type": "subslide"
    }
   },
   "source": [
    "**Example**: Find $$\\lim_{x\\to0}\\frac{\\sin x}{x}.$$"
   ]
  },
  {
   "cell_type": "code",
   "execution_count": 4,
   "metadata": {
    "slideshow": {
     "slide_type": "fragment"
    }
   },
   "outputs": [
    {
     "data": {
      "text/html": [
       "<html><script type=\"math/tex; mode=display\">\\newcommand{\\Bold}[1]{\\mathbf{#1}}\\infty</script></html>"
      ],
      "text/plain": [
       "Infinity"
      ]
     },
     "execution_count": 4,
     "metadata": {},
     "output_type": "execute_result"
    }
   ],
   "source": [
    "# enter code here\n",
    "f(x) = sin(x) / x\n",
    "a = 0\n",
    "limit(f(x), x = a)"
   ]
  },
  {
   "cell_type": "markdown",
   "metadata": {
    "slideshow": {
     "slide_type": "fragment"
    }
   },
   "source": [
    "**Example**: Find $\\lim_{x\\to\\infty} \\sin(x)e^{-x}$. Use `oo` or `Infinity` to represent $\\infty$."
   ]
  },
  {
   "cell_type": "code",
   "execution_count": 2,
   "metadata": {
    "slideshow": {
     "slide_type": "fragment"
    }
   },
   "outputs": [
    {
     "data": {
      "text/plain": [
       "0"
      ]
     },
     "execution_count": 2,
     "metadata": {},
     "output_type": "execute_result"
    }
   ],
   "source": [
    "# enter code here \n",
    "limit(sin(x) * exp(-x), x=oo)"
   ]
  },
  {
   "cell_type": "markdown",
   "metadata": {
    "slideshow": {
     "slide_type": "fragment"
    }
   },
   "source": [
    "- Can also use the format `expr.limit(x=a, dir='+')`."
   ]
  },
  {
   "cell_type": "markdown",
   "metadata": {
    "slideshow": {
     "slide_type": "subslide"
    }
   },
   "source": [
    "## Derivatives in Sage"
   ]
  },
  {
   "cell_type": "markdown",
   "metadata": {
    "slideshow": {
     "slide_type": "fragment"
    }
   },
   "source": [
    "- Computing derivatives follow a similar format:\n",
    "```python\n",
    "derivative(expr, var, order) # or diff instead of derivative\n",
    "expr.derivative(var, order) # or diff instead of derivative\n",
    "```\n",
    "The `order` keyword is optional, and if left out is assumed to be $1$."
   ]
  },
  {
   "cell_type": "markdown",
   "metadata": {
    "slideshow": {
     "slide_type": "fragment"
    }
   },
   "source": [
    "- We won't often have to specify the variable."
   ]
  },
  {
   "cell_type": "markdown",
   "metadata": {
    "slideshow": {
     "slide_type": "subslide"
    }
   },
   "source": [
    "**Example**: Let $g(y) = e^{-y^2}$. Find $g'(y)$ and $g'''(y)$."
   ]
  },
  {
   "cell_type": "code",
   "execution_count": 5,
   "metadata": {
    "slideshow": {
     "slide_type": "fragment"
    }
   },
   "outputs": [
    {
     "data": {
      "text/html": [
       "<html><script type=\"math/tex; mode=display\">\\newcommand{\\Bold}[1]{\\mathbf{#1}}-8 \\, y^{3} e^{\\left(-y^{2}\\right)} + 12 \\, y e^{\\left(-y^{2}\\right)}</script></html>"
      ],
      "text/latex": [
       "\\begin{math}\n",
       "\\newcommand{\\Bold}[1]{\\mathbf{#1}}-8 \\, y^{3} e^{\\left(-y^{2}\\right)} + 12 \\, y e^{\\left(-y^{2}\\right)}\n",
       "\\end{math}"
      ],
      "text/plain": [
       "-8*y^3*e^(-y^2) + 12*y*e^(-y^2)"
      ]
     },
     "metadata": {},
     "output_type": "display_data"
    },
    {
     "data": {
      "text/html": [
       "<html><script type=\"math/tex; mode=display\">\\newcommand{\\Bold}[1]{\\mathbf{#1}}-8 \\, y^{3} e^{\\left(-y^{2}\\right)} + 12 \\, y e^{\\left(-y^{2}\\right)}</script></html>"
      ],
      "text/latex": [
       "\\begin{math}\n",
       "\\newcommand{\\Bold}[1]{\\mathbf{#1}}-8 \\, y^{3} e^{\\left(-y^{2}\\right)} + 12 \\, y e^{\\left(-y^{2}\\right)}\n",
       "\\end{math}"
      ],
      "text/plain": [
       "-8*y^3*e^(-y^2) + 12*y*e^(-y^2)"
      ]
     },
     "metadata": {},
     "output_type": "display_data"
    }
   ],
   "source": [
    "# enter code here\n",
    "var('y')\n",
    "show(derivative(exp(-y^2), y, 3))\n",
    "show((exp(-y^2)).diff(3))"
   ]
  },
  {
   "cell_type": "markdown",
   "metadata": {
    "slideshow": {
     "slide_type": "subslide"
    }
   },
   "source": [
    "**Example**: Find the derivative of $\\tan(kx)$ *with respect to $x$*."
   ]
  },
  {
   "cell_type": "code",
   "execution_count": 11,
   "metadata": {
    "slideshow": {
     "slide_type": "fragment"
    }
   },
   "outputs": [
    {
     "data": {
      "text/html": [
       "<html><script type=\"math/tex; mode=display\">\\newcommand{\\Bold}[1]{\\mathbf{#1}}{\\left(\\tan\\left(k x\\right)^{2} + 1\\right)} k</script></html>"
      ],
      "text/plain": [
       "(tan(k*x)^2 + 1)*k"
      ]
     },
     "execution_count": 11,
     "metadata": {},
     "output_type": "execute_result"
    }
   ],
   "source": [
    "# enter code hre\n",
    "var('k')\n",
    "derivative(tan(k*x), x)"
   ]
  },
  {
   "cell_type": "markdown",
   "metadata": {
    "slideshow": {
     "slide_type": "fragment"
    }
   },
   "source": [
    "- Sage can often infer the variable of differentiation if you use functions."
   ]
  },
  {
   "cell_type": "markdown",
   "metadata": {
    "slideshow": {
     "slide_type": "subslide"
    }
   },
   "source": [
    "## Integrals in Sage"
   ]
  },
  {
   "cell_type": "markdown",
   "metadata": {
    "slideshow": {
     "slide_type": "subslide"
    }
   },
   "source": [
    "- As expected, integrals are computed in much the same way as derivatives in Sage:\n",
    "    - Indefinite integrals:\n",
    "```python\n",
    "integral(expr, var)\n",
    "```\n",
    "    - Definite integrals:\n",
    "    ```python\n",
    "    integral(expr, var, lower, upper)\n",
    "    ```\n",
    "Furthermore, integrals can also be computed using methods:\n",
    "```python\n",
    "f(x) = sin(3*x - 2)\n",
    "f(x).integral(x)\n",
    "```"
   ]
  },
  {
   "cell_type": "markdown",
   "metadata": {
    "slideshow": {
     "slide_type": "subslide"
    }
   },
   "source": [
    "**Example**: Find $\\int (\\sin^{2}x) (\\cos^{2}x) \\,dx$."
   ]
  },
  {
   "cell_type": "code",
   "execution_count": 14,
   "metadata": {
    "slideshow": {
     "slide_type": "fragment"
    }
   },
   "outputs": [
    {
     "data": {
      "text/html": [
       "<html><script type=\"math/tex; mode=display\">\\newcommand{\\Bold}[1]{\\mathbf{#1}}\\frac{1}{8} \\, x - \\frac{1}{32} \\, \\sin\\left(4 \\, x\\right)</script></html>"
      ],
      "text/plain": [
       "1/8*x - 1/32*sin(4*x)"
      ]
     },
     "execution_count": 14,
     "metadata": {},
     "output_type": "execute_result"
    }
   ],
   "source": [
    "# enter code here\n",
    "f(x) = (sin(x)^2) * (cos(x)^2)\n",
    "integral(f(x),x)"
   ]
  },
  {
   "cell_type": "markdown",
   "metadata": {
    "slideshow": {
     "slide_type": "fragment"
    }
   },
   "source": [
    "**Example**: Find a decimal value for $$\\int_{0}^{1}e^{-x^{2}}\\,dx.$$"
   ]
  },
  {
   "cell_type": "code",
   "execution_count": 7,
   "metadata": {
    "slideshow": {
     "slide_type": "fragment"
    }
   },
   "outputs": [],
   "source": [
    "# enter code here"
   ]
  },
  {
   "cell_type": "markdown",
   "metadata": {
    "slideshow": {
     "slide_type": "subslide"
    }
   },
   "source": [
    "**Example**: Find $$\\int_{-\\infty}^{\\infty}\\frac{\\sin x}{x}\\,dx.$$ Use `oo` or `Infinity` to represent $\\infty$."
   ]
  },
  {
   "cell_type": "code",
   "execution_count": null,
   "metadata": {
    "slideshow": {
     "slide_type": "fragment"
    }
   },
   "outputs": [],
   "source": [
    "# enter code here"
   ]
  }
 ],
 "metadata": {
  "kernelspec": {
   "display_name": "SageMath 9.2",
   "language": "sage",
   "name": "sagemath"
  },
  "language_info": {
   "codemirror_mode": {
    "name": "ipython",
    "version": 3
   },
   "file_extension": ".py",
   "mimetype": "text/x-python",
   "name": "python",
   "nbconvert_exporter": "python",
   "pygments_lexer": "ipython3",
   "version": "3.7.7"
  }
 },
 "nbformat": 4,
 "nbformat_minor": 2
}

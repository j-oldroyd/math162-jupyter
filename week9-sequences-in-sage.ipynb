{
 "cells": [
  {
   "cell_type": "markdown",
   "metadata": {
    "slideshow": {
     "slide_type": "slide"
    }
   },
   "source": [
    "# Sequences in Sage"
   ]
  },
  {
   "cell_type": "markdown",
   "metadata": {
    "slideshow": {
     "slide_type": "subslide"
    }
   },
   "source": [
    "## Explicitly Defined Sequences"
   ]
  },
  {
   "cell_type": "markdown",
   "metadata": {
    "slideshow": {
     "slide_type": "subslide"
    }
   },
   "source": [
    "A **sequence** is a (possibly infinite) list of numbers $(a_{0}, a_{1}, a_{2}\\ldots) = (a_{n})_{n=0}^{\\infty}$."
   ]
  },
  {
   "cell_type": "markdown",
   "metadata": {
    "slideshow": {
     "slide_type": "fragment"
    }
   },
   "source": [
    "A sequence is defined **explicitly** if it has an explicit formula:\n",
    "$$a_{n} = f(n).$$"
   ]
  },
  {
   "cell_type": "markdown",
   "metadata": {
    "slideshow": {
     "slide_type": "subslide"
    }
   },
   "source": [
    "**Example 1**: Consider the sequence $a_{n}$ given by\n",
    "$$a_{n} = \\frac{\\ln n}{n}\\quad\\text{for}\\quad n\\geq 2.$$\n",
    "Find $a_{10}$."
   ]
  },
  {
   "cell_type": "code",
   "execution_count": 2,
   "metadata": {
    "slideshow": {
     "slide_type": "fragment"
    }
   },
   "outputs": [
    {
     "data": {
      "text/html": [
       "<html><script type=\"math/tex; mode=display\">\\newcommand{\\Bold}[1]{\\mathbf{#1}}\\frac{1}{10} \\, \\log\\left(10\\right)</script></html>"
      ],
      "text/plain": [
       "1/10*log(10)"
      ]
     },
     "execution_count": 2,
     "metadata": {},
     "output_type": "execute_result"
    }
   ],
   "source": [
    "%display latex\n",
    "# code cell for Example 1\n",
    "var('n')\n",
    "a(n) = log(n) / n\n",
    "\n",
    "a(10)"
   ]
  },
  {
   "cell_type": "markdown",
   "metadata": {
    "slideshow": {
     "slide_type": "fragment"
    }
   },
   "source": [
    "**Example 2**: Find $\\lim_{n\\to\\infty}a_{n}$ if it exists."
   ]
  },
  {
   "cell_type": "code",
   "execution_count": 3,
   "metadata": {
    "slideshow": {
     "slide_type": "fragment"
    }
   },
   "outputs": [
    {
     "data": {
      "text/html": [
       "<html><script type=\"math/tex; mode=display\">\\newcommand{\\Bold}[1]{\\mathbf{#1}}0</script></html>"
      ],
      "text/plain": [
       "0"
      ]
     },
     "execution_count": 3,
     "metadata": {},
     "output_type": "execute_result"
    }
   ],
   "source": [
    "# code cell for Example 2\n",
    "limit(a(n), n = oo)"
   ]
  },
  {
   "cell_type": "markdown",
   "metadata": {
    "slideshow": {
     "slide_type": "subslide"
    }
   },
   "source": [
    "We can plot the terms of a sequence using `list_plot`:\n",
    "```sage\n",
    "list_plot(pts)\n",
    "```"
   ]
  },
  {
   "cell_type": "markdown",
   "metadata": {
    "slideshow": {
     "slide_type": "fragment"
    }
   },
   "source": [
    "We can plot $a_{n} = \\frac{\\ln n}{n}$ as follows:"
   ]
  },
  {
   "cell_type": "code",
   "execution_count": 3,
   "metadata": {
    "slideshow": {
     "slide_type": "fragment"
    }
   },
   "outputs": [
    {
     "data": {
      "image/png": "[encoded data removed]",
      "text/plain": [
       "Graphics object consisting of 1 graphics primitive"
      ]
     },
     "execution_count": 3,
     "metadata": {},
     "output_type": "execute_result"
    }
   ],
   "source": [
    "pts = [(n, log(n) / n) for n in range(2, 50)]    # use list comprehension to define points\n",
    "list_plot(pts, legend_label = \"$a_n$\")"
   ]
  },
  {
   "cell_type": "markdown",
   "metadata": {
    "slideshow": {
     "slide_type": "subslide"
    }
   },
   "source": [
    "**Example 3**: Determine $\\lim_{n\\to\\infty}\\sqrt[n]{n}$. Note:\n",
    "$$\\sqrt[n]{n} = n^{1/n}.$$"
   ]
  },
  {
   "cell_type": "code",
   "execution_count": 4,
   "metadata": {
    "slideshow": {
     "slide_type": "fragment"
    }
   },
   "outputs": [
    {
     "data": {
      "text/html": [
       "<html><script type=\"math/tex; mode=display\">\\newcommand{\\Bold}[1]{\\mathbf{#1}}1</script></html>"
      ],
      "text/plain": [
       "1"
      ]
     },
     "execution_count": 4,
     "metadata": {},
     "output_type": "execute_result"
    }
   ],
   "source": [
    "# code cell for Example 3\n",
    "var('n')\n",
    "limit( n^(1/n), n = oo)"
   ]
  },
  {
   "cell_type": "markdown",
   "metadata": {
    "slideshow": {
     "slide_type": "subslide"
    }
   },
   "source": [
    "## Recurrence Relations"
   ]
  },
  {
   "cell_type": "markdown",
   "metadata": {
    "slideshow": {
     "slide_type": "subslide"
    }
   },
   "source": [
    "A **recurrence relation** is used to specify a sequence *recursively*:\n",
    "$$T_{n} = T_{n-1} + n,\\quad\\text{with}\\quad T_{1} = 1.$$"
   ]
  },
  {
   "cell_type": "markdown",
   "metadata": {
    "slideshow": {
     "slide_type": "fragment"
    }
   },
   "source": [
    "These can be defined in Sage using recursive functions. For such functions, it's important to specify base case carefully!"
   ]
  },
  {
   "cell_type": "code",
   "execution_count": 5,
   "metadata": {
    "slideshow": {
     "slide_type": "fragment"
    }
   },
   "outputs": [
    {
     "data": {
      "text/plain": [
       "[1, 3, 6, 10, 15, 21, 28, 36, 45]"
      ]
     },
     "execution_count": 5,
     "metadata": {},
     "output_type": "execute_result"
    }
   ],
   "source": [
    "def T(n):\n",
    "    \"\"\"\n",
    "    Computes T_n = T_(n-1) + n recursively.\n",
    "    Be sure to enter positive whole number for n!\n",
    "    \"\"\"\n",
    "    if n%1 == 0 and n >= 1:    # checks to see if user entered positive whole number for n\n",
    "        if n == 1:    # base case\n",
    "            return 1\n",
    "        else:\n",
    "            return T(n - 1) + n\n",
    "    else:\n",
    "        print('Please enter a positive whole number for n.')\n",
    "\n",
    "[T(n) for n in range(1,10)]    # prints T_1, T_2, ..., T_9"
   ]
  },
  {
   "cell_type": "markdown",
   "metadata": {
    "slideshow": {
     "slide_type": "subslide"
    }
   },
   "source": [
    "**Example 4**: The **Fibonacci sequence** is defined by the recurrence\n",
    "$$F_{n} = F_{n-1} + F_{n-2}\\quad\\text{with}\\quad F_{1} = F_{2} = 1.$$\n",
    "Find $F_{10}$."
   ]
  },
  {
   "cell_type": "code",
   "execution_count": 8,
   "metadata": {
    "slideshow": {
     "slide_type": "fragment"
    }
   },
   "outputs": [
    {
     "data": {
      "text/html": [
       "<html><script type=\"math/tex; mode=display\">\\newcommand{\\Bold}[1]{\\mathbf{#1}}43466557686937456435688527675040625802564660517371780402481729089536555417949051890403879840079255169295922593080322634775209689623239873322471161642996440906533187938298969649928516003704476137795166849228875</script></html>"
      ],
      "text/plain": [
       "43466557686937456435688527675040625802564660517371780402481729089536555417949051890403879840079255169295922593080322634775209689623239873322471161642996440906533187938298969649928516003704476137795166849228875"
      ]
     },
     "execution_count": 8,
     "metadata": {},
     "output_type": "execute_result"
    }
   ],
   "source": [
    "# code cell for Example 4\n",
    "def F(n):\n",
    "    if n%1 == 0 and n >= 1:\n",
    "        if n == 1 or n == 2:\n",
    "            return 1\n",
    "        else:\n",
    "            return F(n - 1) + F(n - 2)\n",
    "\n",
    "fibonacci(1000)"
   ]
  },
  {
   "cell_type": "markdown",
   "metadata": {
    "slideshow": {
     "slide_type": "subslide"
    }
   },
   "source": [
    "Sage can solve certain recurrences (i.e., find explicit formulas) by employing other systems, such as SymPy."
   ]
  },
  {
   "cell_type": "markdown",
   "metadata": {
    "slideshow": {
     "slide_type": "fragment"
    }
   },
   "source": [
    "The following code cell uses `rsolve` from SymPy to solve the recurrence\n",
    "$$F_{n} = F_{n-1} + F_{n-2} \\quad\\text{for}\\quad F_{1} = F_{2} = 1.$$"
   ]
  },
  {
   "cell_type": "code",
   "execution_count": 7,
   "metadata": {
    "slideshow": {
     "slide_type": "fragment"
    }
   },
   "outputs": [
    {
     "data": {
      "text/latex": [
       "$\\displaystyle - \\frac{\\sqrt{5} \\left(\\frac{1}{2} - \\frac{\\sqrt{5}}{2}\\right)^{n}}{5} + \\frac{\\sqrt{5} \\left(\\frac{1}{2} + \\frac{\\sqrt{5}}{2}\\right)^{n}}{5}$"
      ],
      "text/plain": [
       "-sqrt(5)*(1/2 - sqrt(5)/2)**n/5 + sqrt(5)*(1/2 + sqrt(5)/2)**n/5"
      ]
     },
     "execution_count": 7,
     "metadata": {},
     "output_type": "execute_result"
    }
   ],
   "source": [
    "from sympy import Function, rsolve\n",
    "from sympy.abc import n\n",
    "\n",
    "F = Function('F')\n",
    "fib_rr = F(n) - F(n - 1) - F(n - 2)    # rearrange recurrence to set equal to 0\n",
    "rsolve(fib_rr, F(n), { F(1):1, F(2):1 })"
   ]
  },
  {
   "cell_type": "markdown",
   "metadata": {
    "slideshow": {
     "slide_type": "subslide"
    }
   },
   "source": [
    "**Example 5**: Adapt the code above to solve the recurrence\n",
    "$$T_{n} = T_{n - 1} + n\\quad\\text{with}\\quad T_{1} = 1.$$"
   ]
  },
  {
   "cell_type": "code",
   "execution_count": 8,
   "metadata": {
    "slideshow": {
     "slide_type": "fragment"
    }
   },
   "outputs": [],
   "source": [
    "# code cell for Example 5"
   ]
  }
 ],
 "metadata": {
  "celltoolbar": "Slideshow",
  "kernelspec": {
   "display_name": "SageMath 8.8",
   "language": "sage",
   "name": "sagemath"
  },
  "language_info": {
   "codemirror_mode": {
    "name": "ipython",
    "version": 2
   },
   "file_extension": ".py",
   "mimetype": "text/x-python",
   "name": "python",
   "nbconvert_exporter": "python",
   "pygments_lexer": "ipython2",
   "version": "2.7.15"
  },
  "varInspector": {
   "cols": {
    "lenName": 16,
    "lenType": 16,
    "lenVar": 40
   },
   "kernels_config": {
    "python": {
     "delete_cmd_postfix": "",
     "delete_cmd_prefix": "del ",
     "library": "var_list.py",
     "varRefreshCmd": "print(var_dic_list())"
    },
    "r": {
     "delete_cmd_postfix": ") ",
     "delete_cmd_prefix": "rm(",
     "library": "var_list.r",
     "varRefreshCmd": "cat(var_dic_list()) "
    }
   },
   "types_to_exclude": [
    "module",
    "function",
    "builtin_function_or_method",
    "instance",
    "_Feature"
   ],
   "window_display": false
  }
 },
 "nbformat": 4,
 "nbformat_minor": 2
}

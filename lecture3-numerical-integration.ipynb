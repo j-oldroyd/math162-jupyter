{
 "cells": [
  {
   "cell_type": "markdown",
   "metadata": {
    "slideshow": {
     "slide_type": "slide"
    }
   },
   "source": [
    "# Numerical Integration in Sage"
   ]
  },
  {
   "cell_type": "markdown",
   "metadata": {
    "slideshow": {
     "slide_type": "subslide"
    }
   },
   "source": [
    "**Example**: The integral $$\\int_{0}^{2\\pi}\\sqrt{a^{2}\\cos^2 t + b^{2}\\sin^2 t}\\,dt$$ gives the circumference of the ellipse $$\\frac{x^{2}}{a^{2}} + \\frac{y^{2}}{b^{2}} = 1.$$ Using the `integral` command, try to find the circumference of the ellipse $$\\frac{x^{2}}{9} + y^{2} = 1.$$"
   ]
  },
  {
   "cell_type": "code",
   "execution_count": 2,
   "metadata": {
    "slideshow": {
     "slide_type": "fragment"
    }
   },
   "outputs": [
    {
     "data": {
      "text/html": [
       "<html><script type=\"math/tex; mode=display\">\\newcommand{\\Bold}[1]{\\mathbf{#1}}13.364893220555183</script></html>"
      ],
      "text/latex": [
       "\\begin{math}\n",
       "\\newcommand{\\Bold}[1]{\\mathbf{#1}}13.364893220555183\n",
       "\\end{math}"
      ],
      "text/plain": [
       "13.364893220555183"
      ]
     },
     "execution_count": 2,
     "metadata": {},
     "output_type": "execute_result"
    }
   ],
   "source": [
    "%display latex\n",
    "f(t)  = sqrt(9*cos(t)^2 + sin(t)^2) # fill in function\n",
    "integral(f(t), t, 0, 2*pi).n() # fill in limits"
   ]
  },
  {
   "cell_type": "markdown",
   "metadata": {
    "slideshow": {
     "slide_type": "subslide"
    }
   },
   "source": [
    "- Two ways to find numerical values of integrals:\n",
    "   1. `integral(f(x), x, a, b).n()` or `n(integral(f(x), x, a, b))`.\n",
    "   2. `numerical_integral(f(x), a, b)`."
   ]
  },
  {
   "cell_type": "markdown",
   "metadata": {
    "slideshow": {
     "slide_type": "fragment"
    }
   },
   "source": [
    "**Example**: Use `numerical_integral` to estimate the integral from the previous example."
   ]
  },
  {
   "cell_type": "code",
   "execution_count": 3,
   "metadata": {
    "slideshow": {
     "slide_type": "fragment"
    }
   },
   "outputs": [
    {
     "data": {
      "text/html": [
       "<html><script type=\"math/tex; mode=display\">\\newcommand{\\Bold}[1]{\\mathbf{#1}}\\left(13.364893220555183, 6.193535849203374 \\times 10^{-08}\\right)</script></html>"
      ],
      "text/latex": [
       "\\begin{math}\n",
       "\\newcommand{\\Bold}[1]{\\mathbf{#1}}\\left(13.364893220555183, 6.193535849203374 \\times 10^{-08}\\right)\n",
       "\\end{math}"
      ],
      "text/plain": [
       "(13.364893220555183, 6.193535849203374e-08)"
      ]
     },
     "execution_count": 3,
     "metadata": {},
     "output_type": "execute_result"
    }
   ],
   "source": [
    "# enter code here\n",
    "numerical_integral(f(t), 0, 2*pi)"
   ]
  },
  {
   "cell_type": "markdown",
   "metadata": {
    "slideshow": {
     "slide_type": "subslide"
    }
   },
   "source": [
    "- `numerical_integral` is useful because it also gives the corresponding error. We can use this to estimate the position of the exact value of the integral as follows:"
   ]
  },
  {
   "cell_type": "code",
   "execution_count": 8,
   "metadata": {
    "slideshow": {
     "slide_type": "fragment"
    }
   },
   "outputs": [
    {
     "data": {
      "text/html": [
       "<html><script type=\"math/tex; mode=display\">\\newcommand{\\Bold}[1]{\\mathbf{#1}}\\left(13.364893158619825, 13.364893282490542\\right)</script></html>"
      ],
      "text/latex": [
       "\\begin{math}\n",
       "\\newcommand{\\Bold}[1]{\\mathbf{#1}}\\left(13.364893158619825, 13.364893282490542\\right)\n",
       "\\end{math}"
      ],
      "text/plain": [
       "(13.364893158619825, 13.364893282490542)"
      ]
     },
     "execution_count": 8,
     "metadata": {},
     "output_type": "execute_result"
    }
   ],
   "source": [
    "(approx, error) = numerical_integral(f(t),0,2*pi)  # stores approximation and error into variables for later use\n",
    "(approx- error, approx + error) # interval containing exact value"
   ]
  },
  {
   "cell_type": "markdown",
   "metadata": {
    "slideshow": {
     "slide_type": "subslide"
    }
   },
   "source": [
    "**Example**: The Indian mathematician Ramanujan gave the following approximation for the circumference of the ellipse $\\frac{x^2}{a^2} + \\frac{y^2}{b^2}:$\n",
    "$$L \\approx \\pi\\left(3(a + b) - \\sqrt{(a + 3b)(3a + b)}\\right).$$\n",
    "Use Sage to find this approximation for the ellipse $$\\frac{x^2}{9} + y^2 = 1$$ and then determine if this is a good approximation of the circumference."
   ]
  },
  {
   "cell_type": "code",
   "execution_count": 4,
   "metadata": {},
   "outputs": [
    {
     "data": {
      "text/html": [
       "<html><script type=\"math/tex; mode=display\">\\newcommand{\\Bold}[1]{\\mathbf{#1}}13.36443979</script></html>"
      ],
      "text/latex": [
       "\\begin{math}\n",
       "\\newcommand{\\Bold}[1]{\\mathbf{#1}}13.36443979\n",
       "\\end{math}"
      ],
      "text/plain": [
       "13.36443979"
      ]
     },
     "execution_count": 4,
     "metadata": {},
     "output_type": "execute_result"
    }
   ],
   "source": [
    "(pi*(3 * (3 + 1) - sqrt((3 + 3*1) * (3*3 + 1)))).n(digits = 10)"
   ]
  },
  {
   "cell_type": "markdown",
   "metadata": {
    "slideshow": {
     "slide_type": "fragment"
    }
   },
   "source": [
    "**Answer**:"
   ]
  },
  {
   "cell_type": "markdown",
   "metadata": {
    "slideshow": {
     "slide_type": "subslide"
    }
   },
   "source": [
    "**Example**: Use numerical integration to determine if the following equality is reasonable, and find an interval in which the exact value of the integral lies: $$\\int_{0}^{\\infty}\\frac{x}{e^{x} - 1}\\,dx = \\frac{\\pi^{2}}{6}.$$"
   ]
  },
  {
   "cell_type": "code",
   "execution_count": 4,
   "metadata": {},
   "outputs": [
    {
     "data": {
      "text/html": [
       "<html><script type=\"math/tex; mode=display\">\\newcommand{\\Bold}[1]{\\mathbf{#1}}\\left(1.6449340662546619, 1.644934067441791\\right)</script></html>"
      ],
      "text/latex": [
       "\\begin{math}\n",
       "\\newcommand{\\Bold}[1]{\\mathbf{#1}}\\left(1.6449340662546619, 1.644934067441791\\right)\n",
       "\\end{math}"
      ],
      "text/plain": [
       "(1.6449340662546619, 1.644934067441791)"
      ]
     },
     "execution_count": 4,
     "metadata": {},
     "output_type": "execute_result"
    }
   ],
   "source": [
    "approx2, err2 = numerical_integral(x / (e^x - 1), 0, oo)\n",
    "(approx2 - err2, approx2 + err2)"
   ]
  },
  {
   "cell_type": "code",
   "execution_count": 5,
   "metadata": {},
   "outputs": [
    {
     "data": {
      "text/html": [
       "<html><script type=\"math/tex; mode=display\">\\newcommand{\\Bold}[1]{\\mathbf{#1}}1.64493406684823</script></html>"
      ],
      "text/latex": [
       "\\begin{math}\n",
       "\\newcommand{\\Bold}[1]{\\mathbf{#1}}1.64493406684823\n",
       "\\end{math}"
      ],
      "text/plain": [
       "1.64493406684823"
      ]
     },
     "execution_count": 5,
     "metadata": {},
     "output_type": "execute_result"
    }
   ],
   "source": [
    "n(pi^2 / 6)"
   ]
  },
  {
   "cell_type": "code",
   "execution_count": null,
   "metadata": {},
   "outputs": [],
   "source": []
  }
 ],
 "metadata": {
  "kernelspec": {
   "display_name": "SageMath 9.2",
   "language": "sage",
   "name": "sagemath"
  },
  "language_info": {
   "codemirror_mode": {
    "name": "ipython",
    "version": 3
   },
   "file_extension": ".py",
   "mimetype": "text/x-python",
   "name": "python",
   "nbconvert_exporter": "python",
   "pygments_lexer": "ipython3",
   "version": "3.7.7"
  }
 },
 "nbformat": 4,
 "nbformat_minor": 1
}

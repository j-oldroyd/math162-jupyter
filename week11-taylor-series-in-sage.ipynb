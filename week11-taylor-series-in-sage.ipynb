{
 "cells": [
  {
   "cell_type": "markdown",
   "metadata": {
    "slideshow": {
     "slide_type": "slide"
    }
   },
   "source": [
    "# Taylor Series in Sage"
   ]
  },
  {
   "cell_type": "markdown",
   "metadata": {
    "slideshow": {
     "slide_type": "subslide"
    }
   },
   "source": [
    "A **Taylor series** is a special series of the form\n",
    "$$\\sum_{k=0}^{\\infty}c_{k}x^{k}\\quad\\text{or}\\quad\\sum_{k=0}^{\\infty}c_{k}(x - a)^{k}.$$\n",
    "Their partial sums $S_{n}$ are called **Taylor polynomials of order $n$**."
   ]
  },
  {
   "cell_type": "markdown",
   "metadata": {
    "slideshow": {
     "slide_type": "fragment"
    }
   },
   "source": [
    "These are useful for approximating functions with polynomials."
   ]
  },
  {
   "cell_type": "markdown",
   "metadata": {
    "slideshow": {
     "slide_type": "subslide"
    }
   },
   "source": [
    "In Sage, we find Taylor polynomials using the `taylor` command:\n",
    "```sage\n",
    "taylor(f(x), x, a, n)\n",
    "```\n",
    "This produces the Taylor polynomial of order $n$ centered at $a$."
   ]
  },
  {
   "cell_type": "markdown",
   "metadata": {
    "slideshow": {
     "slide_type": "fragment"
    }
   },
   "source": [
    "**Example 1**: Use Sage to find the $7^{\\text{th}}$ order Taylor polynomial of $\\sin x$ centered at $\\pi$."
   ]
  },
  {
   "cell_type": "code",
   "execution_count": 2,
   "metadata": {
    "slideshow": {
     "slide_type": "fragment"
    }
   },
   "outputs": [
    {
     "data": {
      "text/html": [
       "<html><script type=\"math/tex; mode=display\">\\newcommand{\\Bold}[1]{\\mathbf{#1}}\\pi - \\frac{1}{5040} \\, {\\left(\\pi - x\\right)}^{7} + \\frac{1}{120} \\, {\\left(\\pi - x\\right)}^{5} - \\frac{1}{6} \\, {\\left(\\pi - x\\right)}^{3} - x</script></html>"
      ],
      "text/plain": [
       "pi - 1/5040*(pi - x)^7 + 1/120*(pi - x)^5 - 1/6*(pi - x)^3 - x"
      ]
     },
     "execution_count": 2,
     "metadata": {},
     "output_type": "execute_result"
    }
   ],
   "source": [
    "%display latex\n",
    "# enter code for Example 1 here\n",
    "taylor(sin(x), x, pi, 7)"
   ]
  },
  {
   "cell_type": "markdown",
   "metadata": {
    "slideshow": {
     "slide_type": "subslide"
    }
   },
   "source": [
    "**Example 2**: Find the tenth order Taylor polynomials of $\\sin x$ at $a = 0$ and $\\cos (x - \\frac{\\pi}{2})$ at $a = 0$."
   ]
  },
  {
   "cell_type": "code",
   "execution_count": null,
   "metadata": {
    "slideshow": {
     "slide_type": "fragment"
    }
   },
   "outputs": [],
   "source": [
    "# code cell for Example 2"
   ]
  },
  {
   "cell_type": "markdown",
   "metadata": {
    "slideshow": {
     "slide_type": "subslide"
    }
   },
   "source": [
    "**Example 3**: Let $f(x)$ denote the tenth order Taylor polynomial of $\\arctan x$ centered at $0$, and compare $f(.1)$ with $\\arctan(.1)$."
   ]
  },
  {
   "cell_type": "code",
   "execution_count": null,
   "metadata": {
    "slideshow": {
     "slide_type": "fragment"
    }
   },
   "outputs": [],
   "source": [
    "# code cell for Example 3"
   ]
  },
  {
   "cell_type": "markdown",
   "metadata": {
    "slideshow": {
     "slide_type": "fragment"
    }
   },
   "source": [
    "**Example 4**: By computing Taylor polynomials of $\\ln(1+x)$ centered at $0$, complete the following equality relating $\\ln(1+x)$ with its Taylor series:\n",
    "$$\\ln(1 + x) = \\sum_{k = ?}^{\\infty}(-1)^{k+1}\\frac{x^{?}}{?}$$"
   ]
  },
  {
   "cell_type": "code",
   "execution_count": null,
   "metadata": {
    "slideshow": {
     "slide_type": "fragment"
    }
   },
   "outputs": [],
   "source": [
    "# code cell for Example 4"
   ]
  },
  {
   "cell_type": "markdown",
   "metadata": {
    "slideshow": {
     "slide_type": "subslide"
    }
   },
   "source": [
    "**Example 5**: Verify the equality\n",
    "$$\\frac{1}{\\sqrt{1 - 4x}} = \\sum_{k=0}^{\\infty}\\binom{2k}{k}x^{k}$$\n",
    "by comparing the seventh order Taylor polynomial of $\\displaystyle\\frac{1}{\\sqrt{1 - 4x}}$ with $\\displaystyle\\sum_{k=0}^{7}\\binom{2k}{k}x^{k}$. Note that $\\binom{2k}{k}$ is implemented in Sage as `binomial(2*k, k)`."
   ]
  },
  {
   "cell_type": "code",
   "execution_count": null,
   "metadata": {
    "slideshow": {
     "slide_type": "fragment"
    }
   },
   "outputs": [],
   "source": [
    "# code cell for Example 5"
   ]
  }
 ],
 "metadata": {
  "celltoolbar": "Slideshow",
  "kernelspec": {
   "display_name": "SageMath 8.8",
   "language": "sage",
   "name": "sagemath"
  },
  "language_info": {
   "codemirror_mode": {
    "name": "ipython",
    "version": 2
   },
   "file_extension": ".py",
   "mimetype": "text/x-python",
   "name": "python",
   "nbconvert_exporter": "python",
   "pygments_lexer": "ipython2",
   "version": "2.7.15"
  },
  "varInspector": {
   "cols": {
    "lenName": 16,
    "lenType": 16,
    "lenVar": 40
   },
   "kernels_config": {
    "python": {
     "delete_cmd_postfix": "",
     "delete_cmd_prefix": "del ",
     "library": "var_list.py",
     "varRefreshCmd": "print(var_dic_list())"
    },
    "r": {
     "delete_cmd_postfix": ") ",
     "delete_cmd_prefix": "rm(",
     "library": "var_list.r",
     "varRefreshCmd": "cat(var_dic_list()) "
    }
   },
   "types_to_exclude": [
    "module",
    "function",
    "builtin_function_or_method",
    "instance",
    "_Feature"
   ],
   "window_display": false
  }
 },
 "nbformat": 4,
 "nbformat_minor": 2
}

{
 "cells": [
  {
   "cell_type": "markdown",
   "metadata": {
    "slideshow": {
     "slide_type": "slide"
    }
   },
   "source": [
    "# Differential Equations in Sage"
   ]
  },
  {
   "cell_type": "markdown",
   "metadata": {
    "slideshow": {
     "slide_type": "subslide"
    }
   },
   "source": [
    "A **differential equation** is an equation relating some unknown function or functions with corresponding derivatives:\n",
    "1. $y' = x$.\n",
    "2. $y'' = t$.\n",
    "3. $x'' + x = 0$."
   ]
  },
  {
   "cell_type": "markdown",
   "metadata": {
    "slideshow": {
     "slide_type": "fragment"
    }
   },
   "source": [
    "A **solution** of a differential equation is a function that satisfies the equation:\n",
    "1. $y' = x$ has a solution $y = \\frac{x^{2}}{2} + 1$.\n",
    "2. $y'' = t$ has a solution $y = \\frac{t^{3}}{6}$.\n",
    "3. $x'' + x = 0$ has a solution $x = 3\\cos t - 2\\sin t$."
   ]
  },
  {
   "cell_type": "markdown",
   "metadata": {
    "slideshow": {
     "slide_type": "subslide"
    }
   },
   "source": [
    "**Example 1**: Using Sage, check if the following functions are solutions of the differential equation $y'' + y = \\sin(x)$:\n",
    "1. $\\sin(x)$\n",
    "2. $\\cos(x) + \\sin(x) - \\frac{1}{2}x\\cos(x)$\n",
    "3. $3\\cos(x) - \\pi\\sin(x) - \\frac{1}{2}x\\cos x$"
   ]
  },
  {
   "cell_type": "code",
   "execution_count": 10,
   "metadata": {
    "slideshow": {
     "slide_type": "fragment"
    }
   },
   "outputs": [
    {
     "data": {
      "text/html": [
       "<html><script type=\"math/tex; mode=display\">\\newcommand{\\Bold}[1]{\\mathbf{#1}}0</script></html>"
      ],
      "text/latex": [
       "\\begin{math}\n",
       "\\newcommand{\\Bold}[1]{\\mathbf{#1}}0\n",
       "\\end{math}"
      ],
      "text/plain": [
       "0"
      ]
     },
     "metadata": {},
     "output_type": "display_data"
    },
    {
     "data": {
      "text/html": [
       "<html><script type=\"math/tex; mode=display\">\\newcommand{\\Bold}[1]{\\mathbf{#1}}\\sin\\left(x\\right)</script></html>"
      ],
      "text/latex": [
       "\\begin{math}\n",
       "\\newcommand{\\Bold}[1]{\\mathbf{#1}}\\sin\\left(x\\right)\n",
       "\\end{math}"
      ],
      "text/plain": [
       "sin(x)"
      ]
     },
     "metadata": {},
     "output_type": "display_data"
    },
    {
     "data": {
      "text/html": [
       "<html><script type=\"math/tex; mode=display\">\\newcommand{\\Bold}[1]{\\mathbf{#1}}\\sin\\left(x\\right)</script></html>"
      ],
      "text/latex": [
       "\\begin{math}\n",
       "\\newcommand{\\Bold}[1]{\\mathbf{#1}}\\sin\\left(x\\right)\n",
       "\\end{math}"
      ],
      "text/plain": [
       "sin(x)"
      ]
     },
     "metadata": {},
     "output_type": "display_data"
    }
   ],
   "source": [
    "# code cell for Example 1\n",
    "%display latex    # the usual suspect\n"
   ]
  },
  {
   "cell_type": "markdown",
   "metadata": {
    "slideshow": {
     "slide_type": "subslide"
    }
   },
   "source": [
    "Differential equations typically have *infinitely* many solutions. The **general solution** is the solution that encompasses all others. These are written as depending on one or multiple *arbitrary constants*. For example, the general solution of $y'' + y = \\sin(x)$ is $y = A\\cos(x) + B\\sin(x) - \\frac{x}{2}\\cos(x).$"
   ]
  },
  {
   "cell_type": "markdown",
   "metadata": {
    "slideshow": {
     "slide_type": "fragment"
    }
   },
   "source": [
    "**Example 2**: Find the general solution of the differential equation\n",
    "$$\\frac{dy}{dx} = x\\sin x.$$"
   ]
  },
  {
   "cell_type": "code",
   "execution_count": 3,
   "metadata": {
    "slideshow": {
     "slide_type": "fragment"
    }
   },
   "outputs": [
    {
     "data": {
      "text/html": [
       "<html><script type=\"math/tex; mode=display\">\\newcommand{\\Bold}[1]{\\mathbf{#1}}-x \\cos\\left(x\\right) + \\sin\\left(x\\right)</script></html>"
      ],
      "text/plain": [
       "-x*cos(x) + sin(x)"
      ]
     },
     "execution_count": 3,
     "metadata": {},
     "output_type": "execute_result"
    }
   ],
   "source": [
    "# code cell for Example 2"
   ]
  },
  {
   "cell_type": "markdown",
   "metadata": {
    "slideshow": {
     "slide_type": "fragment"
    }
   },
   "source": [
    "**Answer**: The general solution is..."
   ]
  },
  {
   "cell_type": "markdown",
   "metadata": {
    "slideshow": {
     "slide_type": "subslide"
    }
   },
   "source": [
    "Differential equations of the form $y' = f(x)$ can be solved by integrating. For more complicated equations, we can use `desolve`:\n",
    "```sage\n",
    "desolve(de, dvar)\n",
    "```"
   ]
  },
  {
   "cell_type": "markdown",
   "metadata": {
    "slideshow": {
     "slide_type": "fragment"
    }
   },
   "source": [
    "Here, `de` represents a differential equation and `dvar` represents the corresponding unknown function (dependent variable)."
   ]
  },
  {
   "cell_type": "markdown",
   "metadata": {
    "slideshow": {
     "slide_type": "fragment"
    }
   },
   "source": [
    "**Example 3**: To solve $y'' + y = 0$ for $y$ (assuming $y$ is a function of $x$), proceed as follows:"
   ]
  },
  {
   "cell_type": "code",
   "execution_count": 12,
   "metadata": {
    "slideshow": {
     "slide_type": "fragment"
    }
   },
   "outputs": [
    {
     "data": {
      "text/html": [
       "<html><script type=\"math/tex; mode=display\">\\newcommand{\\Bold}[1]{\\mathbf{#1}}K_{2} \\cos\\left(x\\right) + K_{1} \\sin\\left(x\\right)</script></html>"
      ],
      "text/latex": [
       "\\begin{math}\n",
       "\\newcommand{\\Bold}[1]{\\mathbf{#1}}K_{2} \\cos\\left(x\\right) + K_{1} \\sin\\left(x\\right)\n",
       "\\end{math}"
      ],
      "text/plain": [
       "_K2*cos(x) + _K1*sin(x)"
      ]
     },
     "execution_count": 12,
     "metadata": {},
     "output_type": "execute_result"
    }
   ],
   "source": [
    "y = function('y')(x)           # tells Sage that y is a function of x\n",
    "de = diff(y, x, 2) + y == 0    # y'' + y = 0. Note double equal sign in equation!\n",
    "desolve(de, y)                 # tells Sage to solve y'' + y = 0 for y"
   ]
  },
  {
   "cell_type": "code",
   "execution_count": 11,
   "metadata": {
    "slideshow": {
     "slide_type": "subslide"
    }
   },
   "outputs": [
    {
     "data": {
      "text/html": [
       "<html><script type=\"math/tex; mode=display\">\\newcommand{\\Bold}[1]{\\mathbf{#1}}\\begin{array}{l}\n",
       "\\verb|Interactive|\\phantom{\\verb!x!}\\verb|function|\\phantom{\\verb!x!}\\verb|<function|\\phantom{\\verb!x!}\\verb|_|\\phantom{\\verb!x!}\\verb|at|\\phantom{\\verb!x!}\\verb|0x6ffe8ac28170>|\\phantom{\\verb!x!}\\verb|with|\\phantom{\\verb!x!}\\verb|2|\\phantom{\\verb!x!}\\verb|widgets|\\\\\n",
       "\\phantom{\\verb!xx!}\\verb|k1:|\\phantom{\\verb!x!}\\verb|TransformIntSlider(value=0,|\\phantom{\\verb!x!}\\verb|description='$k_{1}|\\phantom{\\verb!x!}\\verb|=|\\phantom{\\verb!x!}\\verb|$',|\\phantom{\\verb!x!}\\verb|max=3,|\\phantom{\\verb!x!}\\verb|min=-3)|\\\\\n",
       "\\phantom{\\verb!xx!}\\verb|k2:|\\phantom{\\verb!x!}\\verb|TransformIntSlider(value=0,|\\phantom{\\verb!x!}\\verb|description='$k_{2}|\\phantom{\\verb!x!}\\verb|=|\\phantom{\\verb!x!}\\verb|$',|\\phantom{\\verb!x!}\\verb|max=3,|\\phantom{\\verb!x!}\\verb|min=-3)|\n",
       "\\end{array}</script></html>"
      ],
      "text/latex": [
       "\\begin{math}\n",
       "\\newcommand{\\Bold}[1]{\\mathbf{#1}}\\begin{array}{l}\n",
       "\\verb|Interactive|\\phantom{\\verb!x!}\\verb|function|\\phantom{\\verb!x!}\\verb|<function|\\phantom{\\verb!x!}\\verb|_|\\phantom{\\verb!x!}\\verb|at|\\phantom{\\verb!x!}\\verb|0x6ffe8ac28170>|\\phantom{\\verb!x!}\\verb|with|\\phantom{\\verb!x!}\\verb|2|\\phantom{\\verb!x!}\\verb|widgets|\\\\\n",
       "\\phantom{\\verb!xx!}\\verb|k1:|\\phantom{\\verb!x!}\\verb|TransformIntSlider(value=0,|\\phantom{\\verb!x!}\\verb|description='$k_{1}|\\phantom{\\verb!x!}\\verb|=|\\phantom{\\verb!x!}\\verb|$',|\\phantom{\\verb!x!}\\verb|max=3,|\\phantom{\\verb!x!}\\verb|min=-3)|\\\\\n",
       "\\phantom{\\verb!xx!}\\verb|k2:|\\phantom{\\verb!x!}\\verb|TransformIntSlider(value=0,|\\phantom{\\verb!x!}\\verb|description='$k_{2}|\\phantom{\\verb!x!}\\verb|=|\\phantom{\\verb!x!}\\verb|$',|\\phantom{\\verb!x!}\\verb|max=3,|\\phantom{\\verb!x!}\\verb|min=-3)|\n",
       "\\end{array}\n",
       "\\end{math}"
      ],
      "text/plain": [
       "Interactive function <function _ at 0x6ffe8ac28170> with 2 widgets\n",
       "  k1: TransformIntSlider(value=0, description='$k_{1} = $', max=3, min=-3)\n",
       "  k2: TransformIntSlider(value=0, description='$k_{2} = $', max=3, min=-3)"
      ]
     },
     "metadata": {},
     "output_type": "display_data"
    }
   ],
   "source": [
    "# a plot of the general solution from Example 3\n",
    "@interact\n",
    "def _(k1 = slider(-3, 3, label = \"$k_{1} = $\"), k2 = slider(-3, 3, label = \"$k_{2} = $\")):\n",
    "    var('x')    # make sure x is a variable\n",
    "    y = function('y')(x)\n",
    "    de = diff(y, x, 2) + y == 0\n",
    "    f = desolve(de, y)\n",
    "    plot(f(k1, k2, x), (x, -2*pi, 2*pi), ymin = -6, ymax = 6).show()"
   ]
  },
  {
   "cell_type": "markdown",
   "metadata": {
    "slideshow": {
     "slide_type": "subslide"
    }
   },
   "source": [
    "**Example 4**: Use `desolve` to find the general solution of\n",
    "$$t^{2}x'' + tx' + x = 0.$$"
   ]
  },
  {
   "cell_type": "code",
   "execution_count": 14,
   "metadata": {
    "slideshow": {
     "slide_type": "fragment"
    }
   },
   "outputs": [],
   "source": [
    "# code cell for Example 4\n",
    "var('t')\n",
    "x = function('x')(t)    # define x as a function of t"
   ]
  },
  {
   "cell_type": "markdown",
   "metadata": {
    "slideshow": {
     "slide_type": "subslide"
    }
   },
   "source": [
    "To specify arbitrary constants, we need *initial conditions*. We need one initial condition ($y(x_{0}) = y_{0}$) for first-order ODEs, and two initial conditions ($y(x_{0}) = y_{0}$ and $y'(x_{0}) = y_{1}$) for second-order ODEs."
   ]
  },
  {
   "cell_type": "markdown",
   "metadata": {
    "slideshow": {
     "slide_type": "fragment"
    }
   },
   "source": [
    "To specify initial conditions in `desolve`, use `ics` option:\n",
    "```python\n",
    "desolve(de, dvar, ics = [x0, y0])        # y(x0) = y0\n",
    "```\n",
    "or\n",
    "```python\n",
    "desolve(de, dvar, ics = [x0, y0, y1])    # y(x0) = y0, y'(x0) = y1\n",
    "```"
   ]
  },
  {
   "cell_type": "markdown",
   "metadata": {
    "slideshow": {
     "slide_type": "fragment"
    }
   },
   "source": [
    "**Example 5**: Solve the **initial value problem**\n",
    "$$P' = P(1 - P), \\quad P(0) = 100.$$"
   ]
  },
  {
   "cell_type": "code",
   "execution_count": 17,
   "metadata": {
    "slideshow": {
     "slide_type": "fragment"
    }
   },
   "outputs": [
    {
     "data": {
      "text/html": [
       "<html><script type=\"math/tex; mode=display\">\\newcommand{\\Bold}[1]{\\mathbf{#1}}\\left[P\\left(t\\right) = \\frac{100 \\, e^{t}}{100 \\, e^{t} - 99}\\right]</script></html>"
      ],
      "text/latex": [
       "\\begin{math}\n",
       "\\newcommand{\\Bold}[1]{\\mathbf{#1}}\\left[P\\left(t\\right) = \\frac{100 \\, e^{t}}{100 \\, e^{t} - 99}\\right]\n",
       "\\end{math}"
      ],
      "text/plain": [
       "[P(t) == 100*e^t/(100*e^t - 99)]"
      ]
     },
     "execution_count": 17,
     "metadata": {},
     "output_type": "execute_result"
    }
   ],
   "source": [
    "# code cell for Example 5\n",
    "P = function('P')(t)\n",
    "de = diff(P, t) == P * (1 - P)\n",
    "desolve(de, P, ics = [0, 100]).log_simplify().solve(P)"
   ]
  },
  {
   "cell_type": "markdown",
   "metadata": {
    "slideshow": {
     "slide_type": "subslide"
    }
   },
   "source": [
    "**Example 6**: Using `@interact` and `input_box` (see Lecture 6 notes), create a function that allows the user to choose values for $y_{0}$ and $y_{1}$ in the following IVP and then solves and plots the solution of\n",
    "$$y'' + y = \\sin x,\\quad y(0) = y_{0}\\quad\\text{and}\\quad y'(0) = y_{1}.$$\n",
    "(*Hint*: modify the code cell constructing the plot after Example 3.)"
   ]
  },
  {
   "cell_type": "code",
   "execution_count": null,
   "metadata": {
    "slideshow": {
     "slide_type": "fragment"
    }
   },
   "outputs": [],
   "source": [
    "# code cell for Example 6\n",
    "@interact\n",
    "def _(y0 = input_box(1, width = 20, label = \"$y_0 = $\"), y1 = ):\n",
    "    var('x')    # make sure x is a variable\n",
    "    y = function('y')(x)\n",
    "    de = diff(y, x, 2) + y == sin(x)\n",
    "    f = desolve(de, y)\n",
    "    plot(f(x), (x, -2*pi, 2*pi), ymin = -6, ymax = 6).show()"
   ]
  }
 ],
 "metadata": {
  "kernelspec": {
   "display_name": "SageMath 9.2",
   "language": "sage",
   "name": "sagemath"
  },
  "language_info": {
   "codemirror_mode": {
    "name": "ipython",
    "version": 3
   },
   "file_extension": ".py",
   "mimetype": "text/x-python",
   "name": "python",
   "nbconvert_exporter": "python",
   "pygments_lexer": "ipython3",
   "version": "3.7.7"
  },
  "varInspector": {
   "cols": {
    "lenName": 16,
    "lenType": 16,
    "lenVar": 40
   },
   "kernels_config": {
    "python": {
     "delete_cmd_postfix": "",
     "delete_cmd_prefix": "del ",
     "library": "var_list.py",
     "varRefreshCmd": "print(var_dic_list())"
    },
    "r": {
     "delete_cmd_postfix": ") ",
     "delete_cmd_prefix": "rm(",
     "library": "var_list.r",
     "varRefreshCmd": "cat(var_dic_list()) "
    }
   },
   "types_to_exclude": [
    "module",
    "function",
    "builtin_function_or_method",
    "instance",
    "_Feature"
   ],
   "window_display": false
  }
 },
 "nbformat": 4,
 "nbformat_minor": 2
}

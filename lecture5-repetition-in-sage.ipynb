{
 "cells": [
  {
   "cell_type": "markdown",
   "metadata": {
    "slideshow": {
     "slide_type": "slide"
    }
   },
   "source": [
    "# Repetition in Sage"
   ]
  },
  {
   "cell_type": "markdown",
   "metadata": {
    "slideshow": {
     "slide_type": "subslide"
    }
   },
   "source": [
    "**Example 1**: Find the average of each consecutive pair of numbers in the list `[1, 6, -4, 5, 10]`."
   ]
  },
  {
   "cell_type": "code",
   "execution_count": 9,
   "metadata": {
    "slideshow": {
     "slide_type": "fragment"
    }
   },
   "outputs": [
    {
     "data": {
      "text/html": [
       "<html>\\[\\newcommand{\\Bold}[1]{\\mathbf{#1}}\\frac{7}{2}\\]</html>"
      ],
      "text/latex": [
       "$$\\newcommand{\\Bold}[1]{\\mathbf{#1}}\\frac{7}{2}$$"
      ],
      "text/plain": [
       "7/2"
      ]
     },
     "metadata": {},
     "output_type": "display_data"
    },
    {
     "data": {
      "text/html": [
       "<html>\\[\\newcommand{\\Bold}[1]{\\mathbf{#1}}1\\]</html>"
      ],
      "text/latex": [
       "$$\\newcommand{\\Bold}[1]{\\mathbf{#1}}1$$"
      ],
      "text/plain": [
       "1"
      ]
     },
     "metadata": {},
     "output_type": "display_data"
    },
    {
     "data": {
      "text/html": [
       "<html>\\[\\newcommand{\\Bold}[1]{\\mathbf{#1}}\\frac{1}{2}\\]</html>"
      ],
      "text/latex": [
       "$$\\newcommand{\\Bold}[1]{\\mathbf{#1}}\\frac{1}{2}$$"
      ],
      "text/plain": [
       "1/2"
      ]
     },
     "metadata": {},
     "output_type": "display_data"
    }
   ],
   "source": [
    "%display latex\n",
    "\n",
    "nums = [1, 6, -4, 5, 10]\n",
    "\n",
    "for i in range(0, 3): # i = 0, 1, 2\n",
    "    display((nums[i] + nums[i+1])/2)"
   ]
  },
  {
   "cell_type": "markdown",
   "metadata": {
    "slideshow": {
     "slide_type": "subslide"
    }
   },
   "source": [
    "In Python/Sage, `for` loops can be used to perform a particular action for each element of a list, tuple, etc. The basic format is as follows:\n",
    "```python\n",
    "for item in some_list:\n",
    "    actions\n",
    "```\n",
    "Note the indentation and colon!"
   ]
  },
  {
   "cell_type": "markdown",
   "metadata": {
    "slideshow": {
     "slide_type": "fragment"
    }
   },
   "source": [
    "**Example 2**: Compute the integrals of\n",
    "$$\\frac{x^k}{x - 1}$$\n",
    "for $k = 0, 2, 4, 6, 8.$"
   ]
  },
  {
   "cell_type": "code",
   "execution_count": 26,
   "metadata": {
    "slideshow": {
     "slide_type": "fragment"
    }
   },
   "outputs": [
    {
     "data": {
      "text/html": [
       "<html>\\[\\newcommand{\\Bold}[1]{\\mathbf{#1}}\\log\\left(x - 1\\right)\\]</html>"
      ],
      "text/latex": [
       "$$\\newcommand{\\Bold}[1]{\\mathbf{#1}}\\log\\left(x - 1\\right)$$"
      ],
      "text/plain": [
       "log(x - 1)"
      ]
     },
     "metadata": {},
     "output_type": "display_data"
    },
    {
     "data": {
      "text/html": [
       "<html>\\[\\newcommand{\\Bold}[1]{\\mathbf{#1}}\\frac{1}{2} \\, x^{2} + x + \\log\\left(x - 1\\right)\\]</html>"
      ],
      "text/latex": [
       "$$\\newcommand{\\Bold}[1]{\\mathbf{#1}}\\frac{1}{2} \\, x^{2} + x + \\log\\left(x - 1\\right)$$"
      ],
      "text/plain": [
       "1/2*x^2 + x + log(x - 1)"
      ]
     },
     "metadata": {},
     "output_type": "display_data"
    },
    {
     "data": {
      "text/html": [
       "<html>\\[\\newcommand{\\Bold}[1]{\\mathbf{#1}}\\frac{1}{4} \\, x^{4} + \\frac{1}{3} \\, x^{3} + \\frac{1}{2} \\, x^{2} + x + \\log\\left(x - 1\\right)\\]</html>"
      ],
      "text/latex": [
       "$$\\newcommand{\\Bold}[1]{\\mathbf{#1}}\\frac{1}{4} \\, x^{4} + \\frac{1}{3} \\, x^{3} + \\frac{1}{2} \\, x^{2} + x + \\log\\left(x - 1\\right)$$"
      ],
      "text/plain": [
       "1/4*x^4 + 1/3*x^3 + 1/2*x^2 + x + log(x - 1)"
      ]
     },
     "metadata": {},
     "output_type": "display_data"
    },
    {
     "data": {
      "text/html": [
       "<html>\\[\\newcommand{\\Bold}[1]{\\mathbf{#1}}\\frac{1}{6} \\, x^{6} + \\frac{1}{5} \\, x^{5} + \\frac{1}{4} \\, x^{4} + \\frac{1}{3} \\, x^{3} + \\frac{1}{2} \\, x^{2} + x + \\log\\left(x - 1\\right)\\]</html>"
      ],
      "text/latex": [
       "$$\\newcommand{\\Bold}[1]{\\mathbf{#1}}\\frac{1}{6} \\, x^{6} + \\frac{1}{5} \\, x^{5} + \\frac{1}{4} \\, x^{4} + \\frac{1}{3} \\, x^{3} + \\frac{1}{2} \\, x^{2} + x + \\log\\left(x - 1\\right)$$"
      ],
      "text/plain": [
       "1/6*x^6 + 1/5*x^5 + 1/4*x^4 + 1/3*x^3 + 1/2*x^2 + x + log(x - 1)"
      ]
     },
     "metadata": {},
     "output_type": "display_data"
    },
    {
     "data": {
      "text/html": [
       "<html>\\[\\newcommand{\\Bold}[1]{\\mathbf{#1}}\\frac{1}{8} \\, x^{8} + \\frac{1}{7} \\, x^{7} + \\frac{1}{6} \\, x^{6} + \\frac{1}{5} \\, x^{5} + \\frac{1}{4} \\, x^{4} + \\frac{1}{3} \\, x^{3} + \\frac{1}{2} \\, x^{2} + x + \\log\\left(x - 1\\right)\\]</html>"
      ],
      "text/latex": [
       "$$\\newcommand{\\Bold}[1]{\\mathbf{#1}}\\frac{1}{8} \\, x^{8} + \\frac{1}{7} \\, x^{7} + \\frac{1}{6} \\, x^{6} + \\frac{1}{5} \\, x^{5} + \\frac{1}{4} \\, x^{4} + \\frac{1}{3} \\, x^{3} + \\frac{1}{2} \\, x^{2} + x + \\log\\left(x - 1\\right)$$"
      ],
      "text/plain": [
       "1/8*x^8 + 1/7*x^7 + 1/6*x^6 + 1/5*x^5 + 1/4*x^4 + 1/3*x^3 + 1/2*x^2 + x + log(x - 1)"
      ]
     },
     "metadata": {},
     "output_type": "display_data"
    }
   ],
   "source": [
    "# code cell for Example 2\n",
    "for k in [0, 2, 4, 6, 8]:\n",
    "    display(integral(x^k / (x - 1), x))"
   ]
  },
  {
   "cell_type": "markdown",
   "metadata": {
    "slideshow": {
     "slide_type": "subslide"
    }
   },
   "source": [
    "- A useful command for a `for` loop is the `range` command. This specifies a range of values to iterate over. The basic format for the `range` command is\n",
    "```python\n",
    "range(k) # k integers from 0 to k - 1 (inclusive)\n",
    "range(k1, k2) # (k2 - k1) integers starting from k1 and ending at k2 - 1 (inclusive) \n",
    "range(k1, k2, step) # integers from k1 to k2 (inclusive) increasing by step; step = 1 by default\n",
    "```"
   ]
  },
  {
   "cell_type": "markdown",
   "metadata": {
    "slideshow": {
     "slide_type": "fragment"
    }
   },
   "source": [
    "**Example 3**: Redo the previous example making appropriate use of the `range` command."
   ]
  },
  {
   "cell_type": "code",
   "execution_count": 30,
   "metadata": {
    "slideshow": {
     "slide_type": "fragment"
    }
   },
   "outputs": [],
   "source": [
    "# code cell for Example 3\n"
   ]
  },
  {
   "cell_type": "markdown",
   "metadata": {},
   "source": [
    "- Sage also has the `srange` command which behaves slightly differently to Python's `range` command. The primary differences are that `srange` can provide lists of \"Sage integers\", and also allows non-integer entries."
   ]
  },
  {
   "cell_type": "markdown",
   "metadata": {
    "slideshow": {
     "slide_type": "subslide"
    }
   },
   "source": [
    "**Example 4**: Find the integrals of\n",
    "$$\\frac{x}{(x^2 - 1)^k}$$\n",
    "for $k = 0, \\frac{1}{2}, 1, \\ldots, 4.$"
   ]
  },
  {
   "cell_type": "code",
   "execution_count": 74,
   "metadata": {
    "slideshow": {
     "slide_type": "fragment"
    }
   },
   "outputs": [
    {
     "data": {
      "text/html": [
       "<html>\\[\\newcommand{\\Bold}[1]{\\mathbf{#1}}\\frac{1}{2} \\, x^{2}\\]</html>"
      ],
      "text/latex": [
       "$$\\newcommand{\\Bold}[1]{\\mathbf{#1}}\\frac{1}{2} \\, x^{2}$$"
      ],
      "text/plain": [
       "1/2*x^2"
      ]
     },
     "metadata": {},
     "output_type": "display_data"
    },
    {
     "data": {
      "text/html": [
       "<html>\\[\\newcommand{\\Bold}[1]{\\mathbf{#1}}\\sqrt{x^{2} - 1}\\]</html>"
      ],
      "text/latex": [
       "$$\\newcommand{\\Bold}[1]{\\mathbf{#1}}\\sqrt{x^{2} - 1}$$"
      ],
      "text/plain": [
       "sqrt(x^2 - 1)"
      ]
     },
     "metadata": {},
     "output_type": "display_data"
    },
    {
     "data": {
      "text/html": [
       "<html>\\[\\newcommand{\\Bold}[1]{\\mathbf{#1}}\\frac{1}{2} \\, \\log\\left(x^{2} - 1\\right)\\]</html>"
      ],
      "text/latex": [
       "$$\\newcommand{\\Bold}[1]{\\mathbf{#1}}\\frac{1}{2} \\, \\log\\left(x^{2} - 1\\right)$$"
      ],
      "text/plain": [
       "1/2*log(x^2 - 1)"
      ]
     },
     "metadata": {},
     "output_type": "display_data"
    },
    {
     "data": {
      "text/html": [
       "<html>\\[\\newcommand{\\Bold}[1]{\\mathbf{#1}}-\\frac{1}{\\sqrt{x^{2} - 1}}\\]</html>"
      ],
      "text/latex": [
       "$$\\newcommand{\\Bold}[1]{\\mathbf{#1}}-\\frac{1}{\\sqrt{x^{2} - 1}}$$"
      ],
      "text/plain": [
       "-1/sqrt(x^2 - 1)"
      ]
     },
     "metadata": {},
     "output_type": "display_data"
    },
    {
     "data": {
      "text/html": [
       "<html>\\[\\newcommand{\\Bold}[1]{\\mathbf{#1}}-\\frac{1}{2 \\, {\\left(x^{2} - 1\\right)}}\\]</html>"
      ],
      "text/latex": [
       "$$\\newcommand{\\Bold}[1]{\\mathbf{#1}}-\\frac{1}{2 \\, {\\left(x^{2} - 1\\right)}}$$"
      ],
      "text/plain": [
       "-1/2/(x^2 - 1)"
      ]
     },
     "metadata": {},
     "output_type": "display_data"
    },
    {
     "data": {
      "text/html": [
       "<html>\\[\\newcommand{\\Bold}[1]{\\mathbf{#1}}-\\frac{1}{3 \\, {\\left(x^{2} - 1\\right)}^{\\frac{3}{2}}}\\]</html>"
      ],
      "text/latex": [
       "$$\\newcommand{\\Bold}[1]{\\mathbf{#1}}-\\frac{1}{3 \\, {\\left(x^{2} - 1\\right)}^{\\frac{3}{2}}}$$"
      ],
      "text/plain": [
       "-1/3/(x^2 - 1)^(3/2)"
      ]
     },
     "metadata": {},
     "output_type": "display_data"
    },
    {
     "data": {
      "text/html": [
       "<html>\\[\\newcommand{\\Bold}[1]{\\mathbf{#1}}-\\frac{1}{4 \\, {\\left(x^{2} - 1\\right)}^{2}}\\]</html>"
      ],
      "text/latex": [
       "$$\\newcommand{\\Bold}[1]{\\mathbf{#1}}-\\frac{1}{4 \\, {\\left(x^{2} - 1\\right)}^{2}}$$"
      ],
      "text/plain": [
       "-1/4/(x^2 - 1)^2"
      ]
     },
     "metadata": {},
     "output_type": "display_data"
    },
    {
     "data": {
      "text/html": [
       "<html>\\[\\newcommand{\\Bold}[1]{\\mathbf{#1}}-\\frac{1}{5 \\, {\\left(x^{2} - 1\\right)}^{\\frac{5}{2}}}\\]</html>"
      ],
      "text/latex": [
       "$$\\newcommand{\\Bold}[1]{\\mathbf{#1}}-\\frac{1}{5 \\, {\\left(x^{2} - 1\\right)}^{\\frac{5}{2}}}$$"
      ],
      "text/plain": [
       "-1/5/(x^2 - 1)^(5/2)"
      ]
     },
     "metadata": {},
     "output_type": "display_data"
    },
    {
     "data": {
      "text/html": [
       "<html>\\[\\newcommand{\\Bold}[1]{\\mathbf{#1}}-\\frac{1}{6 \\, {\\left(x^{2} - 1\\right)}^{3}}\\]</html>"
      ],
      "text/latex": [
       "$$\\newcommand{\\Bold}[1]{\\mathbf{#1}}-\\frac{1}{6 \\, {\\left(x^{2} - 1\\right)}^{3}}$$"
      ],
      "text/plain": [
       "-1/6/(x^2 - 1)^3"
      ]
     },
     "metadata": {},
     "output_type": "display_data"
    }
   ],
   "source": [
    "# code cell for Example 4\n",
    "for k in srange(0, 9/2, 1/2):\n",
    "    display(integral(x / (x^2 - 1)^k, x))"
   ]
  },
  {
   "cell_type": "markdown",
   "metadata": {
    "slideshow": {
     "slide_type": "slide"
    }
   },
   "source": [
    "## List Comprehensions"
   ]
  },
  {
   "cell_type": "markdown",
   "metadata": {
    "slideshow": {
     "slide_type": "subslide"
    }
   },
   "source": [
    "- Python, and by extension Sage, allows for easy construction of lists using loops in *list comprehension*."
   ]
  },
  {
   "cell_type": "code",
   "execution_count": 76,
   "metadata": {
    "slideshow": {
     "slide_type": "fragment"
    }
   },
   "outputs": [
    {
     "data": {
      "text/html": [
       "<html>\\[\\newcommand{\\Bold}[1]{\\mathbf{#1}}\\left[1, x, x^{2}, x^{3}, x^{4}\\right]\\]</html>"
      ],
      "text/latex": [
       "$$\\newcommand{\\Bold}[1]{\\mathbf{#1}}\\left[1, x, x^{2}, x^{3}, x^{4}\\right]$$"
      ],
      "text/plain": [
       "[1, x, x^2, x^3, x^4]"
      ]
     },
     "execution_count": 76,
     "metadata": {},
     "output_type": "execute_result"
    }
   ],
   "source": [
    "powList = [x^i for i in range(5)]\n",
    "powList"
   ]
  },
  {
   "cell_type": "markdown",
   "metadata": {
    "slideshow": {
     "slide_type": "subslide"
    }
   },
   "source": [
    "**Example 5**: Use a list comprehension to list the first $20$ perfect squares, that is, list the numbers $1^{2}, 2^{2}, \\ldots, 20^{2}$."
   ]
  },
  {
   "cell_type": "code",
   "execution_count": 78,
   "metadata": {
    "slideshow": {
     "slide_type": "fragment"
    }
   },
   "outputs": [
    {
     "data": {
      "text/html": [
       "<html>\\[\\newcommand{\\Bold}[1]{\\mathbf{#1}}\\left[1, 4, 9, 16, 25, 36, 49, 64, 81, 100, 121, 144, 169, 196, 225, 256, 289, 324, 361, 400\\right]\\]</html>"
      ],
      "text/latex": [
       "$$\\newcommand{\\Bold}[1]{\\mathbf{#1}}\\left[1, 4, 9, 16, 25, 36, 49, 64, 81, 100, 121, 144, 169, 196, 225, 256, 289, 324, 361, 400\\right]$$"
      ],
      "text/plain": [
       "[1,\n",
       " 4,\n",
       " 9,\n",
       " 16,\n",
       " 25,\n",
       " 36,\n",
       " 49,\n",
       " 64,\n",
       " 81,\n",
       " 100,\n",
       " 121,\n",
       " 144,\n",
       " 169,\n",
       " 196,\n",
       " 225,\n",
       " 256,\n",
       " 289,\n",
       " 324,\n",
       " 361,\n",
       " 400]"
      ]
     },
     "execution_count": 78,
     "metadata": {},
     "output_type": "execute_result"
    }
   ],
   "source": [
    "# code cell for Example 5\n"
   ]
  },
  {
   "cell_type": "markdown",
   "metadata": {
    "slideshow": {
     "slide_type": "subslide"
    }
   },
   "source": [
    "**Example 6**: Complete the list comprehension below in order to create a list of values of\n",
    "$$\\int_{0}^{\\pi}\\sin^{n}x\\,dx$$\n",
    "for $n = 0, 2, 4,\\ldots, 10$ and $12$."
   ]
  },
  {
   "cell_type": "code",
   "execution_count": 79,
   "metadata": {
    "slideshow": {
     "slide_type": "fragment"
    }
   },
   "outputs": [
    {
     "data": {
      "text/html": [
       "<html>\\[\\newcommand{\\Bold}[1]{\\mathbf{#1}}\\left[\\pi, \\frac{1}{2} \\, \\pi, \\frac{3}{8} \\, \\pi, \\frac{5}{16} \\, \\pi, \\frac{35}{128} \\, \\pi, \\frac{63}{256} \\, \\pi, \\frac{231}{1024} \\, \\pi\\right]\\]</html>"
      ],
      "text/latex": [
       "$$\\newcommand{\\Bold}[1]{\\mathbf{#1}}\\left[\\pi, \\frac{1}{2} \\, \\pi, \\frac{3}{8} \\, \\pi, \\frac{5}{16} \\, \\pi, \\frac{35}{128} \\, \\pi, \\frac{63}{256} \\, \\pi, \\frac{231}{1024} \\, \\pi\\right]$$"
      ],
      "text/plain": [
       "[pi, 1/2*pi, 3/8*pi, 5/16*pi, 35/128*pi, 63/256*pi, 231/1024*pi]"
      ]
     },
     "execution_count": 79,
     "metadata": {},
     "output_type": "execute_result"
    }
   ],
   "source": [
    "# code cell for Example 6\n"
   ]
  },
  {
   "cell_type": "markdown",
   "metadata": {
    "slideshow": {
     "slide_type": "subslide"
    }
   },
   "source": [
    "**Example 7**: Use a list comprehension to list $100$ equally spaced numbers between $0$ and $1$."
   ]
  },
  {
   "cell_type": "code",
   "execution_count": 81,
   "metadata": {
    "slideshow": {
     "slide_type": "fragment"
    }
   },
   "outputs": [
    {
     "data": {
      "text/html": [
       "<html>\\[\\newcommand{\\Bold}[1]{\\mathbf{#1}}\\left[0, \\frac{1}{100}, \\frac{1}{50}, \\frac{3}{100}, \\frac{1}{25}, \\frac{1}{20}, \\frac{3}{50}, \\frac{7}{100}, \\frac{2}{25}, \\frac{9}{100}, \\frac{1}{10}, \\frac{11}{100}, \\frac{3}{25}, \\frac{13}{100}, \\frac{7}{50}, \\frac{3}{20}, \\frac{4}{25}, \\frac{17}{100}, \\frac{9}{50}, \\frac{19}{100}, \\frac{1}{5}, \\frac{21}{100}, \\frac{11}{50}, \\frac{23}{100}, \\frac{6}{25}, \\frac{1}{4}, \\frac{13}{50}, \\frac{27}{100}, \\frac{7}{25}, \\frac{29}{100}, \\frac{3}{10}, \\frac{31}{100}, \\frac{8}{25}, \\frac{33}{100}, \\frac{17}{50}, \\frac{7}{20}, \\frac{9}{25}, \\frac{37}{100}, \\frac{19}{50}, \\frac{39}{100}, \\frac{2}{5}, \\frac{41}{100}, \\frac{21}{50}, \\frac{43}{100}, \\frac{11}{25}, \\frac{9}{20}, \\frac{23}{50}, \\frac{47}{100}, \\frac{12}{25}, \\frac{49}{100}, \\frac{1}{2}, \\frac{51}{100}, \\frac{13}{25}, \\frac{53}{100}, \\frac{27}{50}, \\frac{11}{20}, \\frac{14}{25}, \\frac{57}{100}, \\frac{29}{50}, \\frac{59}{100}, \\frac{3}{5}, \\frac{61}{100}, \\frac{31}{50}, \\frac{63}{100}, \\frac{16}{25}, \\frac{13}{20}, \\frac{33}{50}, \\frac{67}{100}, \\frac{17}{25}, \\frac{69}{100}, \\frac{7}{10}, \\frac{71}{100}, \\frac{18}{25}, \\frac{73}{100}, \\frac{37}{50}, \\frac{3}{4}, \\frac{19}{25}, \\frac{77}{100}, \\frac{39}{50}, \\frac{79}{100}, \\frac{4}{5}, \\frac{81}{100}, \\frac{41}{50}, \\frac{83}{100}, \\frac{21}{25}, \\frac{17}{20}, \\frac{43}{50}, \\frac{87}{100}, \\frac{22}{25}, \\frac{89}{100}, \\frac{9}{10}, \\frac{91}{100}, \\frac{23}{25}, \\frac{93}{100}, \\frac{47}{50}, \\frac{19}{20}, \\frac{24}{25}, \\frac{97}{100}, \\frac{49}{50}, \\frac{99}{100}\\right]\\]</html>"
      ],
      "text/latex": [
       "$$\\newcommand{\\Bold}[1]{\\mathbf{#1}}\\left[0, \\frac{1}{100}, \\frac{1}{50}, \\frac{3}{100}, \\frac{1}{25}, \\frac{1}{20}, \\frac{3}{50}, \\frac{7}{100}, \\frac{2}{25}, \\frac{9}{100}, \\frac{1}{10}, \\frac{11}{100}, \\frac{3}{25}, \\frac{13}{100}, \\frac{7}{50}, \\frac{3}{20}, \\frac{4}{25}, \\frac{17}{100}, \\frac{9}{50}, \\frac{19}{100}, \\frac{1}{5}, \\frac{21}{100}, \\frac{11}{50}, \\frac{23}{100}, \\frac{6}{25}, \\frac{1}{4}, \\frac{13}{50}, \\frac{27}{100}, \\frac{7}{25}, \\frac{29}{100}, \\frac{3}{10}, \\frac{31}{100}, \\frac{8}{25}, \\frac{33}{100}, \\frac{17}{50}, \\frac{7}{20}, \\frac{9}{25}, \\frac{37}{100}, \\frac{19}{50}, \\frac{39}{100}, \\frac{2}{5}, \\frac{41}{100}, \\frac{21}{50}, \\frac{43}{100}, \\frac{11}{25}, \\frac{9}{20}, \\frac{23}{50}, \\frac{47}{100}, \\frac{12}{25}, \\frac{49}{100}, \\frac{1}{2}, \\frac{51}{100}, \\frac{13}{25}, \\frac{53}{100}, \\frac{27}{50}, \\frac{11}{20}, \\frac{14}{25}, \\frac{57}{100}, \\frac{29}{50}, \\frac{59}{100}, \\frac{3}{5}, \\frac{61}{100}, \\frac{31}{50}, \\frac{63}{100}, \\frac{16}{25}, \\frac{13}{20}, \\frac{33}{50}, \\frac{67}{100}, \\frac{17}{25}, \\frac{69}{100}, \\frac{7}{10}, \\frac{71}{100}, \\frac{18}{25}, \\frac{73}{100}, \\frac{37}{50}, \\frac{3}{4}, \\frac{19}{25}, \\frac{77}{100}, \\frac{39}{50}, \\frac{79}{100}, \\frac{4}{5}, \\frac{81}{100}, \\frac{41}{50}, \\frac{83}{100}, \\frac{21}{25}, \\frac{17}{20}, \\frac{43}{50}, \\frac{87}{100}, \\frac{22}{25}, \\frac{89}{100}, \\frac{9}{10}, \\frac{91}{100}, \\frac{23}{25}, \\frac{93}{100}, \\frac{47}{50}, \\frac{19}{20}, \\frac{24}{25}, \\frac{97}{100}, \\frac{49}{50}, \\frac{99}{100}\\right]$$"
      ],
      "text/plain": [
       "[0,\n",
       " 1/100,\n",
       " 1/50,\n",
       " 3/100,\n",
       " 1/25,\n",
       " 1/20,\n",
       " 3/50,\n",
       " 7/100,\n",
       " 2/25,\n",
       " 9/100,\n",
       " 1/10,\n",
       " 11/100,\n",
       " 3/25,\n",
       " 13/100,\n",
       " 7/50,\n",
       " 3/20,\n",
       " 4/25,\n",
       " 17/100,\n",
       " 9/50,\n",
       " 19/100,\n",
       " 1/5,\n",
       " 21/100,\n",
       " 11/50,\n",
       " 23/100,\n",
       " 6/25,\n",
       " 1/4,\n",
       " 13/50,\n",
       " 27/100,\n",
       " 7/25,\n",
       " 29/100,\n",
       " 3/10,\n",
       " 31/100,\n",
       " 8/25,\n",
       " 33/100,\n",
       " 17/50,\n",
       " 7/20,\n",
       " 9/25,\n",
       " 37/100,\n",
       " 19/50,\n",
       " 39/100,\n",
       " 2/5,\n",
       " 41/100,\n",
       " 21/50,\n",
       " 43/100,\n",
       " 11/25,\n",
       " 9/20,\n",
       " 23/50,\n",
       " 47/100,\n",
       " 12/25,\n",
       " 49/100,\n",
       " 1/2,\n",
       " 51/100,\n",
       " 13/25,\n",
       " 53/100,\n",
       " 27/50,\n",
       " 11/20,\n",
       " 14/25,\n",
       " 57/100,\n",
       " 29/50,\n",
       " 59/100,\n",
       " 3/5,\n",
       " 61/100,\n",
       " 31/50,\n",
       " 63/100,\n",
       " 16/25,\n",
       " 13/20,\n",
       " 33/50,\n",
       " 67/100,\n",
       " 17/25,\n",
       " 69/100,\n",
       " 7/10,\n",
       " 71/100,\n",
       " 18/25,\n",
       " 73/100,\n",
       " 37/50,\n",
       " 3/4,\n",
       " 19/25,\n",
       " 77/100,\n",
       " 39/50,\n",
       " 79/100,\n",
       " 4/5,\n",
       " 81/100,\n",
       " 41/50,\n",
       " 83/100,\n",
       " 21/25,\n",
       " 17/20,\n",
       " 43/50,\n",
       " 87/100,\n",
       " 22/25,\n",
       " 89/100,\n",
       " 9/10,\n",
       " 91/100,\n",
       " 23/25,\n",
       " 93/100,\n",
       " 47/50,\n",
       " 19/20,\n",
       " 24/25,\n",
       " 97/100,\n",
       " 49/50,\n",
       " 99/100]"
      ]
     },
     "execution_count": 81,
     "metadata": {},
     "output_type": "execute_result"
    }
   ],
   "source": [
    "# code cell for Example 7\n"
   ]
  }
 ],
 "metadata": {
  "interpreter": {
   "hash": "4fd5cb6904b5c3c4c9e67eb0b13857e35f47a7b54d9103fae77a57973bc7f024"
  },
  "kernelspec": {
   "display_name": "SageMath 9.4",
   "language": "sage",
   "name": "sagemath-9.4"
  },
  "language_info": {
   "codemirror_mode": {
    "name": "ipython",
    "version": 3
   },
   "file_extension": ".py",
   "mimetype": "text/x-python",
   "name": "python",
   "nbconvert_exporter": "python",
   "pygments_lexer": "ipython3",
   "version": "3.9.5"
  }
 },
 "nbformat": 4,
 "nbformat_minor": 2
}

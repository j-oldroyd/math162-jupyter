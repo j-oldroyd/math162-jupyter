{
 "cells": [
  {
   "cell_type": "markdown",
   "metadata": {
    "slideshow": {
     "slide_type": "slide"
    }
   },
   "source": [
    "# Series in Sage"
   ]
  },
  {
   "cell_type": "markdown",
   "metadata": {
    "slideshow": {
     "slide_type": "subslide"
    }
   },
   "source": [
    "Recall that sigma notation is useful for writing sums:\n",
    "$$\\sum_{k=0}^{100}\\frac{(-1)^{k}}{k+1} = 1 - \\frac{1}{2} + \\frac{1}{3} - \\cdots + \\frac{1}{101}.$$"
   ]
  },
  {
   "cell_type": "markdown",
   "metadata": {
    "slideshow": {
     "slide_type": "fragment"
    }
   },
   "source": [
    "Sage can compute such sums using the `sum` command:\n",
    "```sage\n",
    "sum(expr, var, lower, upper)\n",
    "```"
   ]
  },
  {
   "cell_type": "markdown",
   "metadata": {
    "slideshow": {
     "slide_type": "fragment"
    }
   },
   "source": [
    "Similar to `integral` command!"
   ]
  },
  {
   "cell_type": "markdown",
   "metadata": {
    "slideshow": {
     "slide_type": "fragment"
    }
   },
   "source": [
    "**Example 1**: Use Sage to compute the following sums:\n",
    "1. $\\displaystyle\\sum_{k=0}^{3}(-1)^{k}k.$\n",
    "2. $\\displaystyle\\sum_{k=0}^{100}\\frac{(-1)^{k}}{k+1}.$\n",
    "3. $\\displaystyle\\sum_{k=1}^{n}k.$"
   ]
  },
  {
   "cell_type": "code",
   "execution_count": 1,
   "metadata": {
    "slideshow": {
     "slide_type": "fragment"
    }
   },
   "outputs": [
    {
     "data": {
      "text/html": [
       "<html><script type=\"math/tex; mode=display\">\\newcommand{\\Bold}[1]{\\mathbf{#1}}\\frac{1}{2} \\, n^{2} + \\frac{1}{2} \\, n</script></html>"
      ],
      "text/plain": [
       "1/2*n^2 + 1/2*n"
      ]
     },
     "execution_count": 1,
     "metadata": {},
     "output_type": "execute_result"
    }
   ],
   "source": [
    "# code cell for Example 1\n",
    "%display latex\n",
    "var('k n')\n",
    "sum(k, k, 1, n)"
   ]
  },
  {
   "cell_type": "markdown",
   "metadata": {
    "slideshow": {
     "slide_type": "subslide"
    }
   },
   "source": [
    "**Example 2**: Find\n",
    "$$\\sum_{k=0}^{n}x^{k}.$$"
   ]
  },
  {
   "cell_type": "code",
   "execution_count": 2,
   "metadata": {
    "slideshow": {
     "slide_type": "fragment"
    }
   },
   "outputs": [
    {
     "data": {
      "text/html": [
       "<html><script type=\"math/tex; mode=display\">\\newcommand{\\Bold}[1]{\\mathbf{#1}}\\frac{x^{n + 1} - 1}{x - 1}</script></html>"
      ],
      "text/plain": [
       "(x^(n + 1) - 1)/(x - 1)"
      ]
     },
     "execution_count": 2,
     "metadata": {},
     "output_type": "execute_result"
    }
   ],
   "source": [
    "# code cell for Example 2\n",
    "sum(x^k, k, 0, n)"
   ]
  },
  {
   "cell_type": "markdown",
   "metadata": {
    "slideshow": {
     "slide_type": "fragment"
    }
   },
   "source": [
    "**Example 3**: Complete the code cell below to create an interactive plot of\n",
    "$$T_{n}(x) = \\sum_{k=0}^{n}x^{k}\\quad\\text{and}\\quad f(x) = \\frac{1}{1 - x}$$\n",
    "for $x$ in $(-2, 1)$. Set up the slider so that you can choose values of $n$ between $1$ and $15$."
   ]
  },
  {
   "cell_type": "code",
   "execution_count": 4,
   "metadata": {
    "slideshow": {
     "slide_type": "fragment"
    }
   },
   "outputs": [
    {
     "data": {
      "application/vnd.jupyter.widget-view+json": {
       "model_id": "e084873494904f129aa15551deffae0a",
       "version_major": 2,
       "version_minor": 0
      },
      "text/plain": [
       "SW50ZXJhY3RpdmUgZnVuY3Rpb24gPGZ1bmN0aW9uIF8gYXQgMHgxMGFmYzA1MDA+IHdpdGggMSB3aWRnZXQKICBuOiBUcmFuc2Zvcm1JbnRTbGlkZXIodmFsdWU9MSwgZGVzY3JpcHRpb249dSfigKY=\n"
      ]
     },
     "metadata": {},
     "output_type": "display_data"
    }
   ],
   "source": [
    "# code cell for Example 3\n",
    "@interact\n",
    "def _(n = slider(1, 15)):\n",
    "    Tn = sum(x^k, k, 0, n)    # enter expression for T_n(x) here\n",
    "    f(x) = 1 / (1 - x)    # enter f(x) here\n",
    "    P = plot(Tn, (x, -2, 1), ymin = -1, ymax = 15)\n",
    "    P += plot(f(x), color = 'red')\n",
    "    P.show()"
   ]
  },
  {
   "cell_type": "markdown",
   "metadata": {
    "slideshow": {
     "slide_type": "subslide"
    }
   },
   "source": [
    "Given a sequence $a_n$, a **series** is a sum of the form\n",
    "$$\\sum_{n=0}^{\\infty}a_{n} = a_{0} + a_{1} + \\cdots.$$"
   ]
  },
  {
   "cell_type": "markdown",
   "metadata": {
    "slideshow": {
     "slide_type": "fragment"
    }
   },
   "source": [
    "Series are useful because they can be used to represent quantities that can't be expressed in more elementary terms."
   ]
  },
  {
   "cell_type": "markdown",
   "metadata": {
    "slideshow": {
     "slide_type": "subslide"
    }
   },
   "source": [
    "**Example 4**: Define a function `S(n)` to represent the sum\n",
    "$$S_{n} = \\sum_{k=0}^{n}\\frac{(-1)^{k}}{k+1},$$\n",
    "then find `S(10)`, `S(100)` and `S(500)`. Compare these values with $\\ln 2$."
   ]
  },
  {
   "cell_type": "code",
   "execution_count": null,
   "metadata": {
    "slideshow": {
     "slide_type": "fragment"
    }
   },
   "outputs": [],
   "source": [
    "# code cell for Example 4\n",
    "def S(n):\n",
    "    return sum()"
   ]
  },
  {
   "cell_type": "markdown",
   "metadata": {
    "slideshow": {
     "slide_type": "fragment"
    }
   },
   "source": [
    "**Example 5**: What is the value of\n",
    "$$\\sum_{k=0}^{\\infty}\\frac{(-1)^{k}}{k+1}?$$"
   ]
  },
  {
   "cell_type": "markdown",
   "metadata": {
    "slideshow": {
     "slide_type": "fragment"
    }
   },
   "source": [
    "**Answer**:\n",
    "$$\\sum_{k=0}^{\\infty}\\frac{(-1)^{k}}{k+1} = \\ln 2.$$"
   ]
  }
 ],
 "metadata": {
  "celltoolbar": "Slideshow",
  "kernelspec": {
   "display_name": "SageMath 8.8",
   "language": "sage",
   "name": "sagemath"
  },
  "language_info": {
   "codemirror_mode": {
    "name": "ipython",
    "version": 2
   },
   "file_extension": ".py",
   "mimetype": "text/x-python",
   "name": "python",
   "nbconvert_exporter": "python",
   "pygments_lexer": "ipython2",
   "version": "2.7.15"
  },
  "varInspector": {
   "cols": {
    "lenName": 16,
    "lenType": 16,
    "lenVar": 40
   },
   "kernels_config": {
    "python": {
     "delete_cmd_postfix": "",
     "delete_cmd_prefix": "del ",
     "library": "var_list.py",
     "varRefreshCmd": "print(var_dic_list())"
    },
    "r": {
     "delete_cmd_postfix": ") ",
     "delete_cmd_prefix": "rm(",
     "library": "var_list.r",
     "varRefreshCmd": "cat(var_dic_list()) "
    }
   },
   "types_to_exclude": [
    "module",
    "function",
    "builtin_function_or_method",
    "instance",
    "_Feature"
   ],
   "window_display": false
  }
 },
 "nbformat": 4,
 "nbformat_minor": 2
}

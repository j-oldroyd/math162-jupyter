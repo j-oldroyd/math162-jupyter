{
 "cells": [
  {
   "cell_type": "markdown",
   "metadata": {
    "slideshow": {
     "slide_type": "slide"
    }
   },
   "source": [
    "# Parametric Plotting in Sage"
   ]
  },
  {
   "cell_type": "markdown",
   "metadata": {
    "slideshow": {
     "slide_type": "subslide"
    }
   },
   "source": [
    "A **parametric curve** is a curve $C$ that is traced out by $(x(t), y(t)), a\\leq t\\leq b$ for some functions $x$ and $y$. Note that $C$ lives in two dimensions but is essentially a one-dimensional object (since it only depends on a single independent variable). To create basic parametric plots of $x = x(t), y = y(t), a\\leq t\\leq b$ in Sage we use the `parametric_plot` command:\n",
    "```sage\n",
    "parametric_plot( (x(t), y(t)), (t, a, b))\n",
    "```\n",
    "Parametric plots can be useful for describing curves that can't be given by functions of the form $y=f(x)$, such as the unit circle."
   ]
  },
  {
   "cell_type": "code",
   "execution_count": null,
   "metadata": {},
   "outputs": [],
   "source": [
    "var('t')\n",
    "parametric_plot((cos(t), sin(t)), (t, 0, 2*pi))"
   ]
  },
  {
   "cell_type": "markdown",
   "metadata": {
    "slideshow": {
     "slide_type": "fragment"
    }
   },
   "source": [
    "**Example 1**: Plot the parametric curve given by\n",
    "\\begin{align*} x &= t \\\\ y &= 3t^2 - \\cos t \\\\ -1 &\\leq t\\leq 1\\end{align*}"
   ]
  },
  {
   "cell_type": "code",
   "execution_count": null,
   "metadata": {
    "slideshow": {
     "slide_type": "fragment"
    }
   },
   "outputs": [],
   "source": [
    "# enter code for Example 1 here"
   ]
  },
  {
   "cell_type": "markdown",
   "metadata": {
    "slideshow": {
     "slide_type": "subslide"
    }
   },
   "source": [
    "**Example 2**: Let $C$ denote the parametric curve given by\n",
    "$$\\begin{align*} x &= \\sin(3t+2) \\\\ y &= \\sin(2t) \\\\ 0 &\\leq t\\leq 2\\pi\\end{align*}$$\n",
    "Plot $C$ using the code cell below. Is it possible for $C$ to be the graph of an equation of the form $y=f(x)$?"
   ]
  },
  {
   "cell_type": "code",
   "execution_count": null,
   "metadata": {},
   "outputs": [],
   "source": [
    "# enter code for Example 2 here"
   ]
  },
  {
   "cell_type": "markdown",
   "metadata": {
    "slideshow": {
     "slide_type": "subslide"
    }
   },
   "source": [
    "**Example 3**: Create an interactive plot of the parametric equations\n",
    "$$\\begin{align*} x &= \\sin(t + \\sin t) \\\\ y &= \\cos(t + \\cos t) \\end{align*}$$\n",
    "Your plot be for $0\\leq t\\leq b$, where $b$ is selected using a slider."
   ]
  },
  {
   "cell_type": "code",
   "execution_count": null,
   "metadata": {
    "slideshow": {
     "slide_type": "-"
    }
   },
   "outputs": [],
   "source": [
    "# code cell for Example 3\n",
    "@interact\n",
    "def _(b = slider(1, 7, step_size=.2)):\n",
    "    parametric_plot().show()    # complete this line!"
   ]
  },
  {
   "cell_type": "markdown",
   "metadata": {
    "slideshow": {
     "slide_type": "subslide"
    }
   },
   "source": [
    "- The window of a parametric plot can be changed using the `xmin`, `xmax`, `ymin` and `ymax` arguments:\n",
    "```python\n",
    "parametric_plot( (cos(t), sin(t)), (t, 0, 2*pi), xmin=-1, xmax=1, ymin=-2, ymax=5)\n",
    "```"
   ]
  },
  {
   "cell_type": "markdown",
   "metadata": {
    "slideshow": {
     "slide_type": "subslide"
    }
   },
   "source": [
    "**Example 4**: The **cycloid** is the curve traced out by\n",
    "$$\\begin{align*} x &= r(t - \\sin t) \\\\ y &= r(1 - \\cos t)\\end{align*}$$\n",
    "for some number $r$. Using $r = 5$, determine if this curve is a circle."
   ]
  },
  {
   "cell_type": "code",
   "execution_count": null,
   "metadata": {
    "slideshow": {
     "slide_type": "-"
    }
   },
   "outputs": [],
   "source": [
    "# code cell for Example 4"
   ]
  },
  {
   "cell_type": "markdown",
   "metadata": {
    "slideshow": {
     "slide_type": "subslide"
    }
   },
   "source": [
    "**Example 5**: A **polar plot** is a plot of the form \n",
    "$$\\begin{align*} x &= f(\\theta)\\cos\\theta \\\\ y &= f(\\theta)\\sin\\theta \\end{align*}$$\n",
    "for some function $f(\\theta)$. Typically, these plots are described in the form $r = f(\\theta)$. Using Sage, plot $r = \\theta$."
   ]
  },
  {
   "cell_type": "code",
   "execution_count": null,
   "metadata": {
    "slideshow": {
     "slide_type": "fragment"
    }
   },
   "outputs": [],
   "source": [
    "# code cell for Example 5"
   ]
  },
  {
   "cell_type": "markdown",
   "metadata": {
    "slideshow": {
     "slide_type": "fragment"
    }
   },
   "source": [
    "**Example 6**: Plot $r = \\sin k\\theta$ for different, whole number values of $k$ (perhaps using an interactive plot). Do you notice a pattern?"
   ]
  },
  {
   "cell_type": "code",
   "execution_count": null,
   "metadata": {
    "slideshow": {
     "slide_type": "fragment"
    }
   },
   "outputs": [],
   "source": [
    "# code cell for Example 6"
   ]
  }
 ],
 "metadata": {
  "celltoolbar": "Slideshow",
  "kernelspec": {
   "display_name": "SageMath 9.4",
   "language": "sage",
   "name": "sagemath-9.4"
  },
  "language_info": {
   "codemirror_mode": {
    "name": "ipython",
    "version": 3
   },
   "file_extension": ".py",
   "mimetype": "text/x-python",
   "name": "python",
   "nbconvert_exporter": "python",
   "pygments_lexer": "ipython3",
   "version": "3.9.5"
  },
  "varInspector": {
   "cols": {
    "lenName": 16,
    "lenType": 16,
    "lenVar": 40
   },
   "kernels_config": {
    "python": {
     "delete_cmd_postfix": "",
     "delete_cmd_prefix": "del ",
     "library": "var_list.py",
     "varRefreshCmd": "print(var_dic_list())"
    },
    "r": {
     "delete_cmd_postfix": ") ",
     "delete_cmd_prefix": "rm(",
     "library": "var_list.r",
     "varRefreshCmd": "cat(var_dic_list()) "
    }
   },
   "types_to_exclude": [
    "module",
    "function",
    "builtin_function_or_method",
    "instance",
    "_Feature"
   ],
   "window_display": false
  }
 },
 "nbformat": 4,
 "nbformat_minor": 4
}

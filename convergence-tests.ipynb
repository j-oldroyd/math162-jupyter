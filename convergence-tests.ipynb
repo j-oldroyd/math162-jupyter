{
 "cells": [
  {
   "cell_type": "markdown",
   "metadata": {},
   "source": [
    "# Convergence and Divergence Tests"
   ]
  },
  {
   "cell_type": "markdown",
   "metadata": {},
   "source": [
    "**Example**: Use the divergence test to determine if any of the following series converge.\n",
    "1. $\\displaystyle\\sum_{k=4}^{\\infty}e^{-\\sin k}$.\n",
    "2. $\\displaystyle\\sum_{k = 1}^{\\infty}\\frac{1}{1 + k}$.\n",
    "3. $\\displaystyle\\sum_{k = -2}^{\\infty}\\tan^{-1}(k)$."
   ]
  },
  {
   "cell_type": "code",
   "execution_count": 2,
   "metadata": {},
   "outputs": [
    {
     "data": {
      "text/html": [
       "<html><script type=\"math/tex; mode=display\">\\newcommand{\\Bold}[1]{\\mathbf{#1}}\\mathit{ind}</script></html>"
      ],
      "text/plain": [
       "ind"
      ]
     },
     "execution_count": 2,
     "metadata": {},
     "output_type": "execute_result"
    }
   ],
   "source": [
    "%display latex\n",
    "var('k')\n",
    "\n",
    "# first series\n",
    "a(k) = exp(-sin(k))\n",
    "limit(a(k), k = oo)"
   ]
  },
  {
   "cell_type": "markdown",
   "metadata": {},
   "source": [
    "**Answer**:\n",
    "1. This series diverges by the divergence test since its terms do not go to $0$.\n",
    "2. \n",
    "3. "
   ]
  },
  {
   "cell_type": "markdown",
   "metadata": {},
   "source": [
    "**Example**: We can check if a series $\\displaystyle\\sum a_{k}$ is geometric by computing $\\displaystyle\\frac{a_{k+1}}{a_{k}}$. If this equals a constant $r$ (i.e. does not depend on $k$), then the series is geometric. Determine which of the following series are geometric. If the series is geometric, determine if it diverges or find its sum if it converges.\n",
    "1. $\\displaystyle\\sum_{k=0}^{\\infty}\\frac{k^{2}}{1 + k^{2}}$.\n",
    "2. $\\displaystyle\\sum_{k = 3}^{\\infty} e^{-k}$.\n",
    "3. $\\displaystyle\\sum_{n = 1}^{\\infty} \\frac{2^{2n + 1}}{5^{n}}$."
   ]
  },
  {
   "cell_type": "code",
   "execution_count": 4,
   "metadata": {},
   "outputs": [
    {
     "data": {
      "text/html": [
       "<html><script type=\"math/tex; mode=display\">\\newcommand{\\Bold}[1]{\\mathbf{#1}}\\frac{k^{4} + 2 \\, k^{3} + 2 \\, k^{2} + 2 \\, k + 1}{k^{4} + 2 \\, k^{3} + 2 \\, k^{2}}</script></html>"
      ],
      "text/plain": [
       "(k^4 + 2*k^3 + 2*k^2 + 2*k + 1)/(k^4 + 2*k^3 + 2*k^2)"
      ]
     },
     "execution_count": 4,
     "metadata": {},
     "output_type": "execute_result"
    }
   ],
   "source": [
    "# first series\n",
    "a(k) = k^2 / (1 + k^2)\n",
    "(a(k + 1) / a(k)).full_simplify()"
   ]
  },
  {
   "cell_type": "markdown",
   "metadata": {},
   "source": [
    "**Answer**:\n",
    "1. This series is not geometric since the ratio depends on $k$.\n",
    "2. \n",
    "3. "
   ]
  },
  {
   "cell_type": "markdown",
   "metadata": {},
   "source": [
    "**Example**: Consider the series $\\displaystyle\\sum_{k = 2}^{\\infty}\\frac{1}{k\\sqrt{\\ln k}}$.\n",
    "1. Explain why neither the divergence test nor the alternating series test is appropriate for determining whether or not this series converges.\n",
    "2. Use a convergence test of your choice to determine if this series converges."
   ]
  },
  {
   "cell_type": "code",
   "execution_count": null,
   "metadata": {},
   "outputs": [],
   "source": [
    "# complimentary Sage cell"
   ]
  },
  {
   "cell_type": "markdown",
   "metadata": {},
   "source": [
    "**Answer**\n",
    "1. \n",
    "2. "
   ]
  },
  {
   "cell_type": "markdown",
   "metadata": {},
   "source": [
    "**Example**: Consider the series $\\displaystyle\\sum_{n = 1}^{\\infty}\\frac{n^{2} - n}{3n^{3} + 2n^{2}}$.\n",
    "1. If you want to use the limit comparison test (which isn't a bad idea here), you need to find another series $\\displaystyle\\sum_{n = 1}^{\\infty}b_{n}$ to compare this series with. What's a good series to use?\n",
    "2. Determine if this series converges or diverges."
   ]
  },
  {
   "cell_type": "code",
   "execution_count": null,
   "metadata": {},
   "outputs": [],
   "source": [
    "# complimentary Sage cell"
   ]
  },
  {
   "cell_type": "markdown",
   "metadata": {},
   "source": [
    "**Answer**:\n",
    "1. \n",
    "2. "
   ]
  },
  {
   "cell_type": "markdown",
   "metadata": {},
   "source": [
    "**Example**: Determine if $\\displaystyle\\sum_{k = 0}^{\\infty}(-1)^{k}\\frac{1}{(k!)^{2}}$ converges. If so, find the value of $n$ required so that $\\displaystyle\\sum_{k = 0}^{n}(-1)^{k}\\frac{1}{(k!)^{2}}$ is within $.01$ of the exact value. It may be helpful to recall that $k!$ is implemented in Sage as `factorial(k)`."
   ]
  },
  {
   "cell_type": "code",
   "execution_count": null,
   "metadata": {},
   "outputs": [],
   "source": [
    "# complimentary Sage cell"
   ]
  },
  {
   "cell_type": "markdown",
   "metadata": {},
   "source": [
    "**Answer**:"
   ]
  },
  {
   "cell_type": "markdown",
   "metadata": {},
   "source": [
    "**Example**: Consider the series $\\displaystyle\\sum_{k = 3}^{\\infty}(-1)^{k}\\frac{\\pi^{2k}}{3^{k}(2k)!}$.\n",
    "1. What about this series suggests that the ratio test might be a good way to determine if the series converges?\n",
    "2. Determine if the series converges."
   ]
  },
  {
   "cell_type": "code",
   "execution_count": null,
   "metadata": {},
   "outputs": [],
   "source": [
    "# complimentary Sage cell"
   ]
  },
  {
   "cell_type": "markdown",
   "metadata": {},
   "source": [
    "**Answer**:\n",
    "1. \n",
    "2. "
   ]
  },
  {
   "cell_type": "markdown",
   "metadata": {},
   "source": [
    "**Example**: Consider the series $\\displaystyle\\sum_{n = 1}^{\\infty}\\frac{n^{2n}}{(1 + 2n^{2})^{n}}$.\n",
    "1. What about this series suggests that the root test might be a good way to determine if the series converges?\n",
    "2. Determine if the series converges."
   ]
  },
  {
   "cell_type": "code",
   "execution_count": null,
   "metadata": {},
   "outputs": [],
   "source": [
    "# complimentary Sage cell"
   ]
  },
  {
   "cell_type": "markdown",
   "metadata": {},
   "source": [
    "**Answer**:\n",
    "1. \n",
    "2. "
   ]
  }
 ],
 "metadata": {
  "kernelspec": {
   "display_name": "SageMath 8.8",
   "language": "sage",
   "name": "sagemath"
  },
  "language_info": {
   "codemirror_mode": {
    "name": "ipython",
    "version": 2
   },
   "file_extension": ".py",
   "mimetype": "text/x-python",
   "name": "python",
   "nbconvert_exporter": "python",
   "pygments_lexer": "ipython2",
   "version": "2.7.15"
  },
  "varInspector": {
   "cols": {
    "lenName": 16,
    "lenType": 16,
    "lenVar": 40
   },
   "kernels_config": {
    "python": {
     "delete_cmd_postfix": "",
     "delete_cmd_prefix": "del ",
     "library": "var_list.py",
     "varRefreshCmd": "print(var_dic_list())"
    },
    "r": {
     "delete_cmd_postfix": ") ",
     "delete_cmd_prefix": "rm(",
     "library": "var_list.r",
     "varRefreshCmd": "cat(var_dic_list()) "
    }
   },
   "types_to_exclude": [
    "module",
    "function",
    "builtin_function_or_method",
    "instance",
    "_Feature"
   ],
   "window_display": false
  }
 },
 "nbformat": 4,
 "nbformat_minor": 2
}

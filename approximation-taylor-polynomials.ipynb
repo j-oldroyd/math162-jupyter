{
 "cells": [
  {
   "cell_type": "markdown",
   "metadata": {
    "slideshow": {
     "slide_type": "slide"
    }
   },
   "source": [
    "# Approximation by Taylor Polynomials"
   ]
  },
  {
   "cell_type": "markdown",
   "metadata": {
    "slideshow": {
     "slide_type": "subslide"
    }
   },
   "source": [
    "The `taylor` command can be used to approximate a function $f(x)$ by a polynomial $T_{n}(x)$, as shown below:"
   ]
  },
  {
   "cell_type": "code",
   "execution_count": 9,
   "metadata": {
    "slideshow": {
     "slide_type": "fragment"
    }
   },
   "outputs": [
    {
     "data": {
      "image/png": "[encoded data removed]",
      "text/plain": [
       "Graphics object consisting of 2 graphics primitives"
      ]
     },
     "metadata": {},
     "output_type": "display_data"
    }
   ],
   "source": [
    "%display latex\n",
    "f(x) = exp(x)\n",
    "a = 1; n = 7\n",
    "Tn(x) = taylor(f(x), x, a, n)    # order n Taylor poly centered at a\n",
    "\n",
    "p = plot(f(x), (x, -2, 2), ymin = -1, ymax = 3, legend_label = \"${0}$\".format(latex(f(x))))\n",
    "p += plot(Tn(x), (x, -2, 2), ymin = -1, ymax = 3, color = 'red', legend_label = \"${0}$\".format(latex(Tn(x))))\n",
    "p.show()"
   ]
  },
  {
   "cell_type": "markdown",
   "metadata": {
    "slideshow": {
     "slide_type": ""
    }
   },
   "source": [
    "As $n$ increases, $T_{n}(x)$ becomes (hopefully) a better approximation of $f(x)$."
   ]
  },
  {
   "cell_type": "markdown",
   "metadata": {
    "slideshow": {
     "slide_type": "subslide"
    }
   },
   "source": [
    "Approximation with polynomials makes calculus easier! Goal: develop method to approximate $f(x)$ by a polynomial."
   ]
  },
  {
   "cell_type": "markdown",
   "metadata": {
    "slideshow": {
     "slide_type": "fragment"
    }
   },
   "source": [
    "**Example**: The interactive plot below plots $y = e^{x}$ and $y = c_{0} + c_{1}x$. Adjust the values for $c_{0}$ and $c_{1}$ so that $y = c_{0} + c_{1}x$ is a good match for $e^{x}$ near $0$."
   ]
  },
  {
   "cell_type": "code",
   "execution_count": 2,
   "metadata": {
    "scrolled": false,
    "slideshow": {
     "slide_type": "fragment"
    }
   },
   "outputs": [
    {
     "data": {
      "application/vnd.jupyter.widget-view+json": {
       "model_id": "88e7bffae89b4e0e9e9992a2c984c7ac",
       "version_major": 2,
       "version_minor": 0
      },
      "text/plain": [
       "SW50ZXJhY3RpdmUgZnVuY3Rpb24gPGZ1bmN0aW9uIF8gYXQgMHgxYTIzOWU4NDg+IHdpdGggMiB3aWRnZXRzCiAgYzA6IFRyYW5zZm9ybUZsb2F0U2xpZGVyKHZhbHVlPTAuMCwgZGVzY3JpcHTigKY=\n"
      ]
     },
     "metadata": {},
     "output_type": "display_data"
    }
   ],
   "source": [
    "@interact\n",
    "def _(c0 = slider(0, 2, step_size = .1, label = \"$c_{0}$\"), c1 = slider(0, 2, step_size = .1, label = \"$c_{1}$\")):\n",
    "    y1 = exp(x)\n",
    "    y2 = c0 + c1 * x\n",
    "    \n",
    "    p = plot(y1, (x, -2, 2), ymin = -1, ymax = 2, label = \"${0}$\".format(latex(y1)))\n",
    "    p += plot(y2, (x, -2, 2), ymin = -1, ymax = 2, color = 'red', label = \"${0}$\".format(latex(y2)))\n",
    "    p.show()"
   ]
  },
  {
   "cell_type": "markdown",
   "metadata": {
    "slideshow": {
     "slide_type": "fragment"
    }
   },
   "source": [
    "To make $y = c_{0} + c_{1}x$ a good fit for $f(x) = e^{x}$ near $x = 0$, we should set $c_{0} = 1 = f(0)$ and $c_{1} = 1 = f'(0)$."
   ]
  },
  {
   "cell_type": "markdown",
   "metadata": {
    "slideshow": {
     "slide_type": "subslide"
    }
   },
   "source": [
    "**Example**: Repeat the above example, but now try to find values for $c_{0}, c_{1}$ and $c_{2}$ that make $y = c_{0} + c_{1}x + c_{2}x^{2}$ a good fit for the graph of $f(x) = e^{x}$ near $0$."
   ]
  },
  {
   "cell_type": "code",
   "execution_count": 3,
   "metadata": {
    "slideshow": {
     "slide_type": "fragment"
    }
   },
   "outputs": [
    {
     "data": {
      "application/vnd.jupyter.widget-view+json": {
       "model_id": "a8fa954c263048759bbe0151ae4cff6b",
       "version_major": 2,
       "version_minor": 0
      },
      "text/plain": [
       "SW50ZXJhY3RpdmUgZnVuY3Rpb24gPGZ1bmN0aW9uIF8gYXQgMHgxYTMyYjQ1MDA+IHdpdGggMyB3aWRnZXRzCiAgYzA6IFRyYW5zZm9ybUZsb2F0U2xpZGVyKHZhbHVlPTAuMCwgZGVzY3JpcHTigKY=\n"
      ]
     },
     "metadata": {},
     "output_type": "display_data"
    }
   ],
   "source": [
    "@interact\n",
    "def _(c0 = slider(0, 2, step_size = .1, label = \"$c_{0}$\"), c1 = slider(0, 2, step_size = .1, label = \"$c_{1}$\"),\\\n",
    "      c2 = slider(-1, 1, step_size = .1, label = \"$c_{2}$\")):\n",
    "    y1 = exp(x)\n",
    "    y2 = c0 + c1 * x + c2 * x^2\n",
    "    \n",
    "    p = plot(y1, (x, -.5, .5), ymin = -1, ymax = 2, label = \"${0}$\".format(latex(y1)))\n",
    "    p += plot(y2, (x, -.5, .5), ymin = -1, ymax = 2, color = 'red', label = \"${0}$\".format(latex(y2)))\n",
    "    p.show()"
   ]
  },
  {
   "cell_type": "markdown",
   "metadata": {
    "slideshow": {
     "slide_type": "fragment"
    }
   },
   "source": [
    "**Example**: Using the polynomial you found in the previous example, estimate $e^{-.2}$ and $\\int_{-.2}^{.2}e^{x}\\,dx$."
   ]
  },
  {
   "cell_type": "markdown",
   "metadata": {
    "slideshow": {
     "slide_type": "fragment"
    }
   },
   "source": [
    "**Answer**:\n",
    "$T_{2}(x) = 1 + x + \\frac{x^2}{2}$.\n",
    "1. $e^{.2} \\approx{} 1 + (-.2) + \\frac{(-.2)^2}{2}$.\n",
    "2. $\\int_{-.2}^{.2}e^{x}\\,dx \\approx{} ?$."
   ]
  },
  {
   "cell_type": "markdown",
   "metadata": {
    "slideshow": {
     "slide_type": "subslide"
    }
   },
   "source": [
    "Now we want to find a methodical approach to constructing these polynomials. In particular, we want to approximate a function $f(x)$ by a quadratic polynomial $c_{0} + c_{1}x + c_{2}x^{2}$. So let's assume these are equal:\n",
    "$$f(x) = c_{0} + c_{1}x + c_{2}x^{2}.$$\n",
    "Then\n",
    "1. $c_{0} ={} f(0)$\n",
    "1. $c_{1} ={} f'(0)$\n",
    "1. $c_{2} ={} f''(0) / 2$"
   ]
  },
  {
   "cell_type": "code",
   "execution_count": 14,
   "metadata": {},
   "outputs": [
    {
     "data": {
      "text/html": [
       "<html><script type=\"math/tex; mode=display\">\\newcommand{\\Bold}[1]{\\mathbf{#1}}2 \\, c_{2}</script></html>"
      ],
      "text/plain": [
       "2*c2"
      ]
     },
     "execution_count": 14,
     "metadata": {},
     "output_type": "execute_result"
    }
   ],
   "source": [
    "var('c0 c1 c2')\n",
    "f(x) = c0 + c1*x + c2*x^2\n",
    "diff(f(x), x, 2).subs(x=0)"
   ]
  },
  {
   "cell_type": "markdown",
   "metadata": {
    "slideshow": {
     "slide_type": "fragment"
    }
   },
   "source": [
    "Now we'll make things a little more complicated. Suppose we want to approximate $f(x)$ by a *cubic* polynomial $c_{0} + c_{1}x + c_{2}x^{2} + c_{3}x^{3}$. Once again, we'll assume that\n",
    "$$f(x) = c_{0} + c_{1}x + c_{2}x^{2} + c_{3}x^{3}.$$\n",
    "Then\n",
    "1. $c_{0} ={} f(0)$\n",
    "1. $c_{1} ={} f'(0)$\n",
    "1. $c_{2} ={} \\frac{f''(0)}{2}$\n",
    "1. $c_{3} ={} \\frac{f'''(0)}{6}$"
   ]
  },
  {
   "cell_type": "code",
   "execution_count": 15,
   "metadata": {
    "slideshow": {
     "slide_type": "fragment"
    }
   },
   "outputs": [
    {
     "data": {
      "text/html": [
       "<html><script type=\"math/tex; mode=display\">\\newcommand{\\Bold}[1]{\\mathbf{#1}}6 \\, c_{3}</script></html>"
      ],
      "text/plain": [
       "6*c3"
      ]
     },
     "execution_count": 15,
     "metadata": {},
     "output_type": "execute_result"
    }
   ],
   "source": [
    "var('c0 c1 c2 c3')\n",
    "f(x) = c0 + c1*x + c2*x^2 + c3*x^3\n",
    "diff(f(x), x, 3)"
   ]
  },
  {
   "cell_type": "markdown",
   "metadata": {
    "slideshow": {
     "slide_type": "subslide"
    }
   },
   "source": [
    "The **Taylor polynomial of order $n$** (centered at $0$) of a function $f(x)$ is given by\n",
    "$$T_{n}(x) = \\sum_{k = 0}^{n}\\frac{f^{(k)}(0)}{k!}x^{k}.$$\n",
    "The Taylor polynomial of order $n$ (centered at $a$) is given by\n",
    "$$T_{n}(x) = \\sum_{k = 0}^{n}\\frac{f^{(k)}(a)}{k!}(x - a)^{k}.$$"
   ]
  },
  {
   "cell_type": "markdown",
   "metadata": {
    "slideshow": {
     "slide_type": "fragment"
    }
   },
   "source": [
    "**Example**: Find the Taylor polynomial of order $3$ for $f(x) = e^x$ centered at $0$."
   ]
  },
  {
   "cell_type": "markdown",
   "metadata": {
    "slideshow": {
     "slide_type": "fragment"
    }
   },
   "source": [
    "**Answer**:"
   ]
  },
  {
   "cell_type": "markdown",
   "metadata": {
    "slideshow": {
     "slide_type": "fragment"
    }
   },
   "source": [
    "**Example**: Find the Taylor polynomial of order $4$ for $f(x) = \\cos x$ centered at $a = \\pi$."
   ]
  },
  {
   "cell_type": "markdown",
   "metadata": {
    "slideshow": {
     "slide_type": "fragment"
    }
   },
   "source": [
    "**Answer**:"
   ]
  },
  {
   "cell_type": "markdown",
   "metadata": {
    "slideshow": {
     "slide_type": "fragment"
    }
   },
   "source": [
    "**Example**: Find the $10^{\\text{th}}, 12^{\\text{th}}$ and $15^{\\text{th}}$ order Taylor polynomials of $\\frac{1}{(1-x)^{2}}$ centered at $0$. Based on this, why should we be able to say that\n",
    "$$\\frac{1}{(1-x)^{2}} = \\sum_{k=0}^{\\infty}kx^{k-1}?$$"
   ]
  },
  {
   "cell_type": "code",
   "execution_count": 6,
   "metadata": {},
   "outputs": [],
   "source": [
    "f(x) = 1 / (1 - x)^2"
   ]
  },
  {
   "cell_type": "markdown",
   "metadata": {
    "slideshow": {
     "slide_type": "subslide"
    }
   },
   "source": [
    "Given a differentiable function $f(x)$, we define the **Taylor series centered at $a$** by\n",
    "$$\\sum_{k=0}^{\\infty}\\frac{f^{(k)}(a)}{k!}(x - a)^{k}.$$\n",
    "If $a = 0$, we also call this a **Maclaurin series**."
   ]
  },
  {
   "cell_type": "markdown",
   "metadata": {
    "slideshow": {
     "slide_type": "fragment"
    }
   },
   "source": [
    "For most of the functions $f(x)$ we care about, if the Taylor series converges, then *it converges to $f(x)$*."
   ]
  },
  {
   "cell_type": "markdown",
   "metadata": {
    "slideshow": {
     "slide_type": "fragment"
    }
   },
   "source": [
    "**Example**: Find the Maclaurin series of $f(x) = e^{x}$ and its radius of convergence."
   ]
  },
  {
   "cell_type": "markdown",
   "metadata": {
    "slideshow": {
     "slide_type": "fragment"
    }
   },
   "source": [
    "1. $\\displaystyle \\sum_{k=0}^{\\infty} \\frac{?}{?}x^{k}.$\n",
    "2. $R = {}?$."
   ]
  }
 ],
 "metadata": {
  "celltoolbar": "Slideshow",
  "kernelspec": {
   "display_name": "SageMath 8.8",
   "language": "sage",
   "name": "sagemath"
  },
  "language_info": {
   "codemirror_mode": {
    "name": "ipython",
    "version": 2
   },
   "file_extension": ".py",
   "mimetype": "text/x-python",
   "name": "python",
   "nbconvert_exporter": "python",
   "pygments_lexer": "ipython2",
   "version": "2.7.15"
  },
  "varInspector": {
   "cols": {
    "lenName": 16,
    "lenType": 16,
    "lenVar": 40
   },
   "kernels_config": {
    "python": {
     "delete_cmd_postfix": "",
     "delete_cmd_prefix": "del ",
     "library": "var_list.py",
     "varRefreshCmd": "print(var_dic_list())"
    },
    "r": {
     "delete_cmd_postfix": ") ",
     "delete_cmd_prefix": "rm(",
     "library": "var_list.r",
     "varRefreshCmd": "cat(var_dic_list()) "
    }
   },
   "types_to_exclude": [
    "module",
    "function",
    "builtin_function_or_method",
    "instance",
    "_Feature"
   ],
   "window_display": false
  }
 },
 "nbformat": 4,
 "nbformat_minor": 2
}
